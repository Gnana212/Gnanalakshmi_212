{
  "cells": [
    {
      "cell_type": "markdown",
      "metadata": {
        "id": "view-in-github",
        "colab_type": "text"
      },
      "source": [
        "<a href=\"https://colab.research.google.com/github/Gnana212/Gnanalakshmi_212/blob/main/Copy_of_Numpy_tasks.ipynb\" target=\"_parent\"><img src=\"https://colab.research.google.com/assets/colab-badge.svg\" alt=\"Open In Colab\"/></a>"
      ]
    },
    {
      "cell_type": "markdown",
      "metadata": {
        "id": "y_io--3Y5yaP"
      },
      "source": [
        "# Numpy\n",
        "\n"
      ]
    },
    {
      "cell_type": "markdown",
      "metadata": {
        "id": "NguBFgYQ5yaa"
      },
      "source": [
        "#### 1. Import the numpy package under the name `np` (★☆☆) \n",
        "(**hint**: import … as …)"
      ]
    },
    {
      "cell_type": "code",
      "execution_count": null,
      "metadata": {
        "collapsed": true,
        "id": "nBN_jjKF5yac"
      },
      "outputs": [],
      "source": [
        "import numpy as np"
      ]
    },
    {
      "cell_type": "markdown",
      "metadata": {
        "id": "sBZy3L7G5yae"
      },
      "source": [
        "#### 2. Print the numpy version and the configuration (★☆☆) \n",
        "(**hint**: np.\\_\\_version\\_\\_, np.show\\_config)"
      ]
    },
    {
      "cell_type": "code",
      "execution_count": null,
      "metadata": {
        "colab": {
          "background_save": true
        },
        "id": "a_h0OQ6J5yaf",
        "outputId": "05176cf9-3f6c-4de4-846b-b5f4afefdc60"
      },
      "outputs": [
        {
          "name": "stdout",
          "output_type": "stream",
          "text": [
            "1.21.6\n"
          ]
        }
      ],
      "source": [
        "import numpy as np\n",
        "print(np.__version__)"
      ]
    },
    {
      "cell_type": "markdown",
      "metadata": {
        "id": "r8Be2ZiI5yaf"
      },
      "source": [
        "#### 3. Create a null vector of size 10 (★☆☆) \n",
        "(**hint**: np.zeros)"
      ]
    },
    {
      "cell_type": "code",
      "execution_count": null,
      "metadata": {
        "colab": {
          "base_uri": "https://localhost:8080/"
        },
        "id": "1r0tHGED5yah",
        "outputId": "3b0cbe18-2642-4c70-bbfe-65fe3e34ba94"
      },
      "outputs": [
        {
          "output_type": "stream",
          "name": "stdout",
          "text": [
            "[0. 0. 0. 0. 0. 0. 0. 0. 0. 0.]\n"
          ]
        }
      ],
      "source": [
        "import numpy as np\n",
        "x = np.zeros(10)\n",
        "print(x)"
      ]
    },
    {
      "cell_type": "markdown",
      "metadata": {
        "id": "h-5tYtQC5yai"
      },
      "source": [
        "#### 4.  How to find the memory size of any array (★☆☆) \n",
        "(**hint**: size, itemsize)"
      ]
    },
    {
      "cell_type": "code",
      "execution_count": null,
      "metadata": {
        "id": "KZS4fkYa5yaj",
        "colab": {
          "base_uri": "https://localhost:8080/"
        },
        "outputId": "a1351a55-a1bc-409f-de08-a5618d724208"
      },
      "outputs": [
        {
          "output_type": "stream",
          "name": "stdout",
          "text": [
            "96 bytes\n"
          ]
        }
      ],
      "source": [
        "import numpy as np\n",
        "n = np.zeros((3,4))\n",
        "print(n.size * n.itemsize)"
      ]
    },
    {
      "cell_type": "markdown",
      "metadata": {
        "id": "k3_nXbYO5yak"
      },
      "source": [
        "#### 5.  How to get the documentation of the numpy add function from the command line? (★☆☆) \n",
        "(**hint**: np.info)"
      ]
    },
    {
      "cell_type": "code",
      "execution_count": null,
      "metadata": {
        "collapsed": true,
        "id": "4Tnh9Zm75yal",
        "colab": {
          "base_uri": "https://localhost:8080/"
        },
        "outputId": "ddb29554-8ca5-48aa-bc15-1f5ee9093ed1"
      },
      "outputs": [
        {
          "output_type": "stream",
          "name": "stdout",
          "text": [
            "add(x1, x2, /, out=None, *, where=True, casting='same_kind', order='K', dtype=None, subok=True[, signature, extobj])\n",
            "\n",
            "Add arguments element-wise.\n",
            "\n",
            "Parameters\n",
            "----------\n",
            "x1, x2 : array_like\n",
            "    The arrays to be added.\n",
            "    If ``x1.shape != x2.shape``, they must be broadcastable to a common\n",
            "    shape (which becomes the shape of the output).\n",
            "out : ndarray, None, or tuple of ndarray and None, optional\n",
            "    A location into which the result is stored. If provided, it must have\n",
            "    a shape that the inputs broadcast to. If not provided or None,\n",
            "    a freshly-allocated array is returned. A tuple (possible only as a\n",
            "    keyword argument) must have length equal to the number of outputs.\n",
            "where : array_like, optional\n",
            "    This condition is broadcast over the input. At locations where the\n",
            "    condition is True, the `out` array will be set to the ufunc result.\n",
            "    Elsewhere, the `out` array will retain its original value.\n",
            "    Note that if an uninitialized `out` array is created via the default\n",
            "    ``out=None``, locations within it where the condition is False will\n",
            "    remain uninitialized.\n",
            "**kwargs\n",
            "    For other keyword-only arguments, see the\n",
            "    :ref:`ufunc docs <ufuncs.kwargs>`.\n",
            "\n",
            "Returns\n",
            "-------\n",
            "add : ndarray or scalar\n",
            "    The sum of `x1` and `x2`, element-wise.\n",
            "    This is a scalar if both `x1` and `x2` are scalars.\n",
            "\n",
            "Notes\n",
            "-----\n",
            "Equivalent to `x1` + `x2` in terms of array broadcasting.\n",
            "\n",
            "Examples\n",
            "--------\n",
            ">>> np.add(1.0, 4.0)\n",
            "5.0\n",
            ">>> x1 = np.arange(9.0).reshape((3, 3))\n",
            ">>> x2 = np.arange(3.0)\n",
            ">>> np.add(x1, x2)\n",
            "array([[  0.,   2.,   4.],\n",
            "       [  3.,   5.,   7.],\n",
            "       [  6.,   8.,  10.]])\n",
            "\n",
            "The ``+`` operator can be used as a shorthand for ``np.add`` on ndarrays.\n",
            "\n",
            ">>> x1 = np.arange(9.0).reshape((3, 3))\n",
            ">>> x2 = np.arange(3.0)\n",
            ">>> x1 + x2\n",
            "array([[ 0.,  2.,  4.],\n",
            "       [ 3.,  5.,  7.],\n",
            "       [ 6.,  8., 10.]])\n",
            "None\n"
          ]
        }
      ],
      "source": [
        "import numpy as np\n",
        "print(np.info(np.add))"
      ]
    },
    {
      "cell_type": "markdown",
      "metadata": {
        "id": "_YYts1Rc5yam"
      },
      "source": [
        "#### 6.  Create a null vector of size 10 but the fifth value which is 1 (★☆☆) \n",
        "(**hint**: array\\[4\\])"
      ]
    },
    {
      "cell_type": "code",
      "execution_count": null,
      "metadata": {
        "id": "qsbE3mbI5yan",
        "colab": {
          "base_uri": "https://localhost:8080/"
        },
        "outputId": "526b2762-2301-4d94-cdfe-003779e600bf"
      },
      "outputs": [
        {
          "output_type": "stream",
          "name": "stdout",
          "text": [
            "[0. 0. 0. 0. 1. 0. 0. 0. 0. 0.]\n"
          ]
        }
      ],
      "source": [
        "import numpy as np\n",
        "n = np.zeros(10)\n",
        "n[4] = 1\n",
        "print(n)"
      ]
    },
    {
      "cell_type": "markdown",
      "metadata": {
        "id": "ooFxpmaW5yan"
      },
      "source": [
        "#### 7.  Create a vector with values ranging from 10 to 49 (★☆☆) \n",
        "(**hint**: np.arange)"
      ]
    },
    {
      "cell_type": "code",
      "execution_count": null,
      "metadata": {
        "id": "xcJQ7-C_5yao",
        "colab": {
          "base_uri": "https://localhost:8080/"
        },
        "outputId": "77d62bd3-4670-48f6-cf7d-4e17d2f33712"
      },
      "outputs": [
        {
          "output_type": "stream",
          "name": "stdout",
          "text": [
            "[10 11 12 13 14 15 16 17 18 19 20 21 22 23 24 25 26 27 28 29 30 31 32 33\n",
            " 34 35 36 37 38 39 40 41 42 43 44 45 46 47 48 49]\n"
          ]
        }
      ],
      "source": [
        "import numpy as np\n",
        "n = np.arange(10,50)\n",
        "print(n)"
      ]
    },
    {
      "cell_type": "markdown",
      "metadata": {
        "id": "Gpa1kRcU5yap"
      },
      "source": [
        "#### 8.  Reverse a vector (first element becomes last) (★☆☆) \n",
        "(**hint**: array\\[::-1\\])"
      ]
    },
    {
      "cell_type": "code",
      "execution_count": null,
      "metadata": {
        "id": "Uzh2nxhv5yaq",
        "colab": {
          "base_uri": "https://localhost:8080/"
        },
        "outputId": "32a50eec-dc2d-425c-be5e-c0998e254d72"
      },
      "outputs": [
        {
          "output_type": "stream",
          "name": "stdout",
          "text": [
            "[49 48 47 46 45 44 43 42 41 40 39 38 37 36 35 34 33 32 31 30 29 28 27 26\n",
            " 25 24 23 22 21 20 19 18 17 16 15 14 13 12 11 10  9  8  7  6  5  4  3  2\n",
            "  1  0]\n"
          ]
        }
      ],
      "source": [
        "import numpy as np\n",
        "n = np.arange(50)\n",
        "n1 = n[::-1]\n",
        "print(n1)"
      ]
    },
    {
      "cell_type": "markdown",
      "metadata": {
        "id": "-rfMrElx5yar"
      },
      "source": [
        "#### 9.  Create a 3x3 matrix with values ranging from 0 to 8 (★☆☆) \n",
        "(**hint**: reshape)"
      ]
    },
    {
      "cell_type": "code",
      "execution_count": null,
      "metadata": {
        "id": "nlvwe4FG5yar",
        "colab": {
          "base_uri": "https://localhost:8080/"
        },
        "outputId": "090c4daf-671c-49d5-db71-822efa8734b0"
      },
      "outputs": [
        {
          "output_type": "stream",
          "name": "stdout",
          "text": [
            "[[0 1 2]\n",
            " [3 4 5]\n",
            " [6 7 8]]\n"
          ]
        }
      ],
      "source": [
        "import numpy as np\n",
        "n = np.arange(9).reshape(3,3)\n",
        "print(n)"
      ]
    },
    {
      "cell_type": "markdown",
      "metadata": {
        "id": "UfIWhLyh5yas"
      },
      "source": [
        "#### 10. Find indices of non-zero elements from \\[1,2,0,0,4,0\\] (★☆☆) \n",
        "(**hint**: np.nonzero)"
      ]
    },
    {
      "cell_type": "code",
      "execution_count": null,
      "metadata": {
        "id": "TcAZ4ajb5yas",
        "colab": {
          "base_uri": "https://localhost:8080/"
        },
        "outputId": "a54c7698-7ca3-4609-a623-85d1e194f277"
      },
      "outputs": [
        {
          "output_type": "stream",
          "name": "stdout",
          "text": [
            "(array([0, 1, 4]),)\n"
          ]
        }
      ],
      "source": [
        "import numpy as np\n",
        "n = np.nonzero([1,2,0,0,4,0])\n",
        "print(n)"
      ]
    },
    {
      "cell_type": "markdown",
      "metadata": {
        "id": "jPR744ty5yat"
      },
      "source": [
        "#### 11. Create a 3x3 identity matrix (★☆☆) \n",
        "(**hint**: np.eye)"
      ]
    },
    {
      "cell_type": "code",
      "execution_count": null,
      "metadata": {
        "id": "W1LZNqLS5yat",
        "colab": {
          "base_uri": "https://localhost:8080/"
        },
        "outputId": "a0757483-c700-4023-e922-6aca164df58c"
      },
      "outputs": [
        {
          "output_type": "stream",
          "name": "stdout",
          "text": [
            "[[1. 0. 0.]\n",
            " [0. 1. 0.]\n",
            " [0. 0. 1.]]\n"
          ]
        }
      ],
      "source": [
        "import numpy as np\n",
        "n = np.eye(3)\n",
        "print(n)"
      ]
    },
    {
      "cell_type": "markdown",
      "metadata": {
        "id": "KuoCzuZj5yau"
      },
      "source": [
        "#### 12. Create a 3x3x3 array with random values (★☆☆) \n",
        "(**hint**: np.random.random)"
      ]
    },
    {
      "cell_type": "code",
      "execution_count": null,
      "metadata": {
        "collapsed": true,
        "id": "nBFxwFI75yau",
        "colab": {
          "base_uri": "https://localhost:8080/"
        },
        "outputId": "8c17ca79-d0b2-41cc-eb6f-2bcddd6bf277"
      },
      "outputs": [
        {
          "output_type": "stream",
          "name": "stdout",
          "text": [
            "[[[0.65383678 0.25230909 0.09590831]\n",
            "  [0.6679517  0.52716094 0.9687285 ]\n",
            "  [0.25135717 0.73436944 0.49206695]]\n",
            "\n",
            " [[0.83977892 0.92535519 0.23266277]\n",
            "  [0.36312548 0.53659714 0.41198605]\n",
            "  [0.86258471 0.29536279 0.02238195]]\n",
            "\n",
            " [[0.81726625 0.45023382 0.67359863]\n",
            "  [0.94265857 0.43219989 0.36765269]\n",
            "  [0.45558984 0.34182623 0.60662716]]]\n"
          ]
        }
      ],
      "source": [
        "import numpy as np\n",
        "n = np.random.random((3,3,3))\n",
        "print(n)"
      ]
    },
    {
      "cell_type": "markdown",
      "metadata": {
        "id": "4WT7Ebr15yau"
      },
      "source": [
        "#### 13. Create a 10x10 array with random values and find the minimum and maximum values (★☆☆) \n",
        "(**hint**: min, max)"
      ]
    },
    {
      "cell_type": "code",
      "execution_count": null,
      "metadata": {
        "id": "PZgTomcx5yav",
        "colab": {
          "base_uri": "https://localhost:8080/"
        },
        "outputId": "ac19f59a-5053-42f9-cc0d-f42c38880382"
      },
      "outputs": [
        {
          "output_type": "stream",
          "name": "stdout",
          "text": [
            "0.008106169565932353 0.9997166034299487\n"
          ]
        }
      ],
      "source": [
        "import numpy as np\n",
        "n = np.random.random((10,10))\n",
        "nmin,nmax = n.min(),n.max()\n",
        "print(nmin, nmax)"
      ]
    },
    {
      "cell_type": "markdown",
      "metadata": {
        "id": "PbrsoUho5yav"
      },
      "source": [
        "#### 14. Create a random vector of size 30 and find the mean value (★☆☆) \n",
        "(**hint**: mean)"
      ]
    },
    {
      "cell_type": "code",
      "execution_count": null,
      "metadata": {
        "id": "RW8-XdQ45yaw",
        "colab": {
          "base_uri": "https://localhost:8080/"
        },
        "outputId": "3678bb6c-29f9-4b68-97ab-7fc7e619f98d"
      },
      "outputs": [
        {
          "output_type": "stream",
          "name": "stdout",
          "text": [
            "0.523051261296916\n"
          ]
        }
      ],
      "source": [
        "import numpy as np\n",
        "n = np.random.random(30)\n",
        "n1 = n.mean()\n",
        "print(n1)"
      ]
    },
    {
      "cell_type": "markdown",
      "metadata": {
        "id": "XIqdHthB5yaw"
      },
      "source": [
        "#### 15. Create a 2d array with 1 on the border and 0 inside (★☆☆) \n",
        "(**hint**: array\\[1:-1, 1:-1\\])"
      ]
    },
    {
      "cell_type": "code",
      "execution_count": null,
      "metadata": {
        "id": "Ic3gq4n85yaw",
        "colab": {
          "base_uri": "https://localhost:8080/"
        },
        "outputId": "59a4afa8-0ebf-4533-9a4c-6b296708fb29"
      },
      "outputs": [
        {
          "output_type": "stream",
          "name": "stdout",
          "text": [
            "[[1. 1. 1. 1. 1. 1. 1. 1. 1. 1.]\n",
            " [1. 0. 0. 0. 0. 0. 0. 0. 0. 1.]\n",
            " [1. 0. 0. 0. 0. 0. 0. 0. 0. 1.]\n",
            " [1. 0. 0. 0. 0. 0. 0. 0. 0. 1.]\n",
            " [1. 0. 0. 0. 0. 0. 0. 0. 0. 1.]\n",
            " [1. 0. 0. 0. 0. 0. 0. 0. 0. 1.]\n",
            " [1. 0. 0. 0. 0. 0. 0. 0. 0. 1.]\n",
            " [1. 0. 0. 0. 0. 0. 0. 0. 0. 1.]\n",
            " [1. 0. 0. 0. 0. 0. 0. 0. 0. 1.]\n",
            " [1. 1. 1. 1. 1. 1. 1. 1. 1. 1.]]\n"
          ]
        }
      ],
      "source": [
        "import numpy as np\n",
        "n = np.ones((10,10))\n",
        "n[1:-1,1:-1] = 0\n",
        "print(n)\n"
      ]
    },
    {
      "cell_type": "markdown",
      "metadata": {
        "id": "pBhvl1yr5yax"
      },
      "source": [
        "#### 16. How to add a border (filled with 0's) around an existing array? (★☆☆) \n",
        "(**hint**: np.pad)"
      ]
    },
    {
      "cell_type": "code",
      "execution_count": null,
      "metadata": {
        "id": "9KjxAQHe5yax",
        "colab": {
          "base_uri": "https://localhost:8080/"
        },
        "outputId": "0e46e03f-f2af-4e31-b50a-ae5ddbc5e6be"
      },
      "outputs": [
        {
          "output_type": "stream",
          "name": "stdout",
          "text": [
            "[[1. 1. 1.]\n",
            " [1. 1. 1.]\n",
            " [1. 1. 1.]]\n",
            "[[0. 0. 0. 0. 0.]\n",
            " [0. 1. 1. 1. 0.]\n",
            " [0. 1. 1. 1. 0.]\n",
            " [0. 1. 1. 1. 0.]\n",
            " [0. 0. 0. 0. 0.]]\n"
          ]
        }
      ],
      "source": [
        "import numpy as np\n",
        "n = np.ones((3,3))\n",
        "print(n)\n",
        "n = np.pad(n, pad_width=1, mode='constant', constant_values=0)\n",
        "print(n)"
      ]
    },
    {
      "cell_type": "markdown",
      "metadata": {
        "id": "qvE5q58S5yay"
      },
      "source": [
        "#### 17. What is the result of the following expression? (★☆☆) \n",
        "(**hint**: NaN = not a number, inf = infinity)"
      ]
    },
    {
      "cell_type": "markdown",
      "metadata": {
        "id": "IdVVj11u5yay"
      },
      "source": [
        "```python\n",
        "0 * np.nan\n",
        "np.nan == np.nan\n",
        "np.inf > np.nan\n",
        "np.nan - np.nan\n",
        "0.3 == 3 * 0.1\n",
        "```"
      ]
    },
    {
      "cell_type": "code",
      "execution_count": null,
      "metadata": {
        "id": "g4F4C_IE5yaz"
      },
      "outputs": [],
      "source": [
        "False"
      ]
    },
    {
      "cell_type": "markdown",
      "metadata": {
        "id": "8Qk2ns8w5yaz"
      },
      "source": [
        "#### 18. Create a 5x5 matrix with values 1,2,3,4 just below the diagonal (★☆☆) \n",
        "(**hint**: np.diag)"
      ]
    },
    {
      "cell_type": "code",
      "execution_count": null,
      "metadata": {
        "id": "g8hNCyI45yaz",
        "colab": {
          "base_uri": "https://localhost:8080/"
        },
        "outputId": "64fc7349-394e-43ac-a3c4-92e6c51227f8"
      },
      "outputs": [
        {
          "output_type": "stream",
          "name": "stdout",
          "text": [
            "[[0 0 0 0 0]\n",
            " [1 0 0 0 0]\n",
            " [0 2 0 0 0]\n",
            " [0 0 3 0 0]\n",
            " [0 0 0 4 0]]\n"
          ]
        }
      ],
      "source": [
        "import numpy as np\n",
        "n = np.diag(1+np.arange(4),k=-1)\n",
        "print(n)\n"
      ]
    },
    {
      "cell_type": "markdown",
      "metadata": {
        "id": "uV-MHxhy5ya0"
      },
      "source": [
        "#### 19. Create a 8x8 matrix and fill it with a checkerboard pattern (★☆☆) \n",
        "(**hint**: array\\[::2\\])"
      ]
    },
    {
      "cell_type": "code",
      "execution_count": null,
      "metadata": {
        "id": "fUBxam5K5ya0",
        "colab": {
          "base_uri": "https://localhost:8080/"
        },
        "outputId": "b553649f-d1ae-4807-8e60-d0f31ceb258f"
      },
      "outputs": [
        {
          "output_type": "stream",
          "name": "stdout",
          "text": [
            "[[0 1 0 1 0 1 0 1]\n",
            " [1 0 1 0 1 0 1 0]\n",
            " [0 1 0 1 0 1 0 1]\n",
            " [1 0 1 0 1 0 1 0]\n",
            " [0 1 0 1 0 1 0 1]\n",
            " [1 0 1 0 1 0 1 0]\n",
            " [0 1 0 1 0 1 0 1]\n",
            " [1 0 1 0 1 0 1 0]]\n"
          ]
        }
      ],
      "source": [
        "import numpy as np\n",
        "n = np.zeros((8,8),dtype=int)\n",
        "n[1::2,::2] = 1\n",
        "n[::2,1::2] = 1\n",
        "print(n)\n"
      ]
    },
    {
      "cell_type": "markdown",
      "metadata": {
        "id": "BsICg2xf5ya1"
      },
      "source": [
        "#### 20. Consider a (6,7,8) shape array, what is the index (x,y,z) of the 100th element? \n",
        "(**hint**: np.unravel_index)"
      ]
    },
    {
      "cell_type": "code",
      "execution_count": null,
      "metadata": {
        "id": "kFhBr6pz5ya1",
        "colab": {
          "base_uri": "https://localhost:8080/"
        },
        "outputId": "9f4a1d41-b14a-4550-af3b-69fdb3952f9e"
      },
      "outputs": [
        {
          "output_type": "stream",
          "name": "stdout",
          "text": [
            "(1, 5, 4)\n"
          ]
        }
      ],
      "source": [
        "import numpy as np\n",
        "print(np.unravel_index(100,(6,7,8)))\n"
      ]
    },
    {
      "cell_type": "markdown",
      "metadata": {
        "id": "6F7UKwvA5ya1"
      },
      "source": [
        "#### 21. Create a checkerboard 8x8 matrix using the tile function (★☆☆) \n",
        "(**hint**: np.tile)"
      ]
    },
    {
      "cell_type": "code",
      "execution_count": null,
      "metadata": {
        "id": "xhtgKhxO5ya2",
        "colab": {
          "base_uri": "https://localhost:8080/"
        },
        "outputId": "3caa16ed-03dd-462e-a5f8-6240c5fa6570"
      },
      "outputs": [
        {
          "output_type": "stream",
          "name": "stdout",
          "text": [
            "[[0 1 0 1 0 1 0 1]\n",
            " [1 0 1 0 1 0 1 0]\n",
            " [0 1 0 1 0 1 0 1]\n",
            " [1 0 1 0 1 0 1 0]\n",
            " [0 1 0 1 0 1 0 1]\n",
            " [1 0 1 0 1 0 1 0]\n",
            " [0 1 0 1 0 1 0 1]\n",
            " [1 0 1 0 1 0 1 0]]\n"
          ]
        }
      ],
      "source": [
        "import numpy as np\n",
        "n = np.tile(np.array([[0,1],[1,0]]), (4,4))\n",
        "print(n)\n"
      ]
    },
    {
      "cell_type": "markdown",
      "metadata": {
        "id": "Xirsh2RA5ya2"
      },
      "source": [
        "#### 22. Normalize a 5x5 random matrix (★☆☆) \n",
        "(**hint**: (x - min) / (max - min))"
      ]
    },
    {
      "cell_type": "code",
      "execution_count": null,
      "metadata": {
        "id": "kRVYQAJX5ya2",
        "colab": {
          "base_uri": "https://localhost:8080/"
        },
        "outputId": "7f05f6f1-0214-46f7-dad5-7237296844fa"
      },
      "outputs": [
        {
          "output_type": "stream",
          "name": "stdout",
          "text": [
            "[[0.7924287  0.03978685 0.44813267 0.81367927 0.82879852]\n",
            " [0.         0.78606355 0.54637915 0.50767523 0.01864772]\n",
            " [0.01056445 0.86562829 0.36640011 0.90811759 0.34651427]\n",
            " [0.60836575 0.11201182 0.735698   0.32701202 0.20268514]\n",
            " [1.         0.21379727 0.91159176 0.16210059 0.86711327]]\n"
          ]
        }
      ],
      "source": [
        "import numpy as np\n",
        "n = np.random.random((5,5))\n",
        "nmax, nmin = n.max(), n.min()\n",
        "n = (n - nmin)/(nmax - nmin)\n",
        "print(n)\n"
      ]
    },
    {
      "cell_type": "markdown",
      "metadata": {
        "id": "kjkUlQ9w5ya3"
      },
      "source": [
        "#### 23. Create a custom dtype that describes a color as four unsigned bytes (RGBA) (★☆☆) \n",
        "(**hint**: np.dtype)"
      ]
    },
    {
      "cell_type": "code",
      "execution_count": null,
      "metadata": {
        "collapsed": true,
        "id": "3QPNgIjx5ya3",
        "colab": {
          "base_uri": "https://localhost:8080/"
        },
        "outputId": "37213934-4443-4706-a54e-125922ed03fa"
      },
      "outputs": [
        {
          "output_type": "stream",
          "name": "stderr",
          "text": [
            "/usr/local/lib/python3.7/dist-packages/ipykernel_launcher.py:5: FutureWarning: Passing (type, 1) or '1type' as a synonym of type is deprecated; in a future version of numpy, it will be understood as (type, (1,)) / '(1,)type'.\n",
            "  \"\"\"\n"
          ]
        }
      ],
      "source": [
        "import numpy as np\n",
        "color = np.dtype([(\"r\", np.ubyte, 1),\n",
        "                  (\"g\", np.ubyte, 1),\n",
        "                  (\"b\", np.ubyte, 1),\n",
        "                  (\"a\", np.ubyte, 1)])\n",
        "\n"
      ]
    },
    {
      "cell_type": "markdown",
      "metadata": {
        "id": "gHGrsize5ya3"
      },
      "source": [
        "#### 24. Multiply a 5x3 matrix by a 3x2 matrix (real matrix product) (★☆☆) \n",
        "(**hint**: np.dot | @)"
      ]
    },
    {
      "cell_type": "code",
      "execution_count": null,
      "metadata": {
        "id": "JmN1o-pu5ya3",
        "colab": {
          "base_uri": "https://localhost:8080/"
        },
        "outputId": "b9a6a042-02bc-49c3-dcb4-a89b47b64dae"
      },
      "outputs": [
        {
          "output_type": "stream",
          "name": "stdout",
          "text": [
            "[[3. 3.]\n",
            " [3. 3.]\n",
            " [3. 3.]\n",
            " [3. 3.]\n",
            " [3. 3.]]\n"
          ]
        }
      ],
      "source": [
        "import numpy as np\n",
        "n = np.dot(np.ones((5,3)), np.ones((3,2)))\n",
        "print(n)\n",
        "\n"
      ]
    },
    {
      "cell_type": "markdown",
      "metadata": {
        "id": "7HX7gNPr5ya4"
      },
      "source": [
        "#### 25. Given a 1D array, negate all elements which are between 3 and 8, in place. (★☆☆) \n",
        "(**hint**: >, <=)"
      ]
    },
    {
      "cell_type": "code",
      "execution_count": null,
      "metadata": {
        "id": "cbSGjhPd5ya4",
        "colab": {
          "base_uri": "https://localhost:8080/"
        },
        "outputId": "ac0281ca-a927-4534-b848-b532dfcc7455"
      },
      "outputs": [
        {
          "output_type": "stream",
          "name": "stdout",
          "text": [
            "[ 0  1  2  3 -4 -5 -6 -7 -8  9 10]\n"
          ]
        }
      ],
      "source": [
        "import numpy as np\n",
        "n = np.arange(11)\n",
        "n[(3 < n) & (n <= 8)] *= -1\n",
        "print(n)\n",
        "\n"
      ]
    },
    {
      "cell_type": "markdown",
      "metadata": {
        "id": "3BL-dZsd5ya4"
      },
      "source": [
        "#### 26. What is the output of the following script? (★☆☆) \n",
        "(**hint**: np.sum)"
      ]
    },
    {
      "cell_type": "markdown",
      "metadata": {
        "id": "hiXzRCfc5ya5"
      },
      "source": [
        "```python\n",
        "# Author: Jake VanderPlas\n",
        "\n",
        "print(sum(range(5),-1))\n",
        "from numpy import *\n",
        "print(sum(range(5),-1))\n",
        "```"
      ]
    },
    {
      "cell_type": "code",
      "execution_count": null,
      "metadata": {
        "id": "2A2jKBVs5ya5"
      },
      "outputs": [],
      "source": [
        "9\n",
        "10"
      ]
    },
    {
      "cell_type": "markdown",
      "metadata": {
        "id": "DoW3USzC5ya5"
      },
      "source": [
        "#### 27. Consider an integer vector Z, which of these expressions are legal? (★☆☆)"
      ]
    },
    {
      "cell_type": "markdown",
      "metadata": {
        "id": "LBY0lUs_5ya6"
      },
      "source": [
        "```python\n",
        "Z**Z\n",
        "2 << Z >> 2\n",
        "Z <- Z\n",
        "1j*Z\n",
        "Z/1/1\n",
        "Z<Z>Z\n",
        "```"
      ]
    },
    {
      "cell_type": "code",
      "execution_count": null,
      "metadata": {
        "id": "aJSUnwAu5ya6"
      },
      "outputs": [],
      "source": []
    },
    {
      "cell_type": "markdown",
      "metadata": {
        "id": "wiY7aFNS5ya6"
      },
      "source": [
        "#### 28. What are the result of the following expressions?"
      ]
    },
    {
      "cell_type": "markdown",
      "metadata": {
        "id": "z8RbfTg85ya7"
      },
      "source": [
        "```python\n",
        "np.array(0) / np.array(0)\n",
        "np.array(0) // np.array(0)\n",
        "np.array([np.nan]).astype(int).astype(float)\n",
        "```"
      ]
    },
    {
      "cell_type": "code",
      "execution_count": null,
      "metadata": {
        "id": "aO_IoVGg5ya7"
      },
      "outputs": [],
      "source": [
        "/usr/local/lib/python3.7/dist-packages/ipykernel_launcher.py:2: RuntimeWarning: invalid value encountered in true_divide\n",
        "  \n",
        "/usr/local/lib/python3.7/dist-packages/ipykernel_launcher.py:3: RuntimeWarning: divide by zero encountered in floor_divide\n",
        "  This is separate from the ipykernel package so we can avoid doing imports until\n",
        "array([-9.22337204e+18])"
      ]
    },
    {
      "cell_type": "markdown",
      "metadata": {
        "id": "a2k19hX-5ya7"
      },
      "source": [
        "#### 29. How to round away from zero a float array ? (★☆☆) \n",
        "(**hint**: np.uniform, np.copysign, np.ceil, np.abs)"
      ]
    },
    {
      "cell_type": "code",
      "execution_count": null,
      "metadata": {
        "id": "cntG1jJ45ya7",
        "colab": {
          "base_uri": "https://localhost:8080/"
        },
        "outputId": "60dedd49-bdc8-4d42-c275-4e20dc82b3a6"
      },
      "outputs": [
        {
          "output_type": "stream",
          "name": "stdout",
          "text": [
            "[ 5. -8. -3. -6. -6.  3. -7. -2. -1.  3.]\n"
          ]
        }
      ],
      "source": [
        "import numpy as np\n",
        "n = np.random.uniform(-10,+10,10)\n",
        "print(np.trunc(n+ np.copysign(0.5, n)))\n",
        "\n"
      ]
    },
    {
      "cell_type": "markdown",
      "metadata": {
        "id": "COUtv_Ts5ya8"
      },
      "source": [
        "#### 30. How to find common values between two arrays? (★☆☆) \n",
        "(**hint**: np.intersect1d)"
      ]
    },
    {
      "cell_type": "code",
      "execution_count": null,
      "metadata": {
        "id": "qAxKVhfj5ya8",
        "colab": {
          "base_uri": "https://localhost:8080/"
        },
        "outputId": "b576f4dc-3765-445e-ca1e-0e44185963a3"
      },
      "outputs": [
        {
          "output_type": "stream",
          "name": "stdout",
          "text": [
            "[0 2 4 7 9]\n"
          ]
        }
      ],
      "source": [
        "import numpy as np\n",
        "n1 = np.random.randint(0,10,10)\n",
        "n2 = np.random.randint(0,10,10)\n",
        "print(np.intersect1d(n1,n2))\n",
        "\n"
      ]
    },
    {
      "cell_type": "markdown",
      "metadata": {
        "id": "vmPUseIA5ya8"
      },
      "source": [
        "#### 31. How to ignore all numpy warnings (not recommended)? (★☆☆) \n",
        "(**hint**: np.seterr, np.errstate)"
      ]
    },
    {
      "cell_type": "code",
      "execution_count": null,
      "metadata": {
        "id": "Dyi5IhJu5ya8"
      },
      "outputs": [],
      "source": [
        "import numpy as np\n",
        "defaults = np.seterr(all=\"ignore\")\n",
        "Z = np.ones(1) / 0\n",
        "_ = np.seterr(**defaults)\n",
        "with np.errstate(all=\"ignore\"):\n",
        "    np.arange(3) / 0\n",
        "\n"
      ]
    },
    {
      "cell_type": "markdown",
      "metadata": {
        "id": "2P7AlMXi5ya9"
      },
      "source": [
        "#### 32. Is the following expressions true? (★☆☆) \n",
        "(**hint**: imaginary number)"
      ]
    },
    {
      "cell_type": "markdown",
      "metadata": {
        "id": "6vrnJkWq5ya9"
      },
      "source": [
        "```python\n",
        "np.sqrt(-1) == np.emath.sqrt(-1)\n",
        "```"
      ]
    },
    {
      "cell_type": "code",
      "execution_count": null,
      "metadata": {
        "id": "HHpW80__5ya9"
      },
      "outputs": [],
      "source": [
        "No, False"
      ]
    },
    {
      "cell_type": "markdown",
      "metadata": {
        "id": "P9BZ4iki5ya-"
      },
      "source": [
        "#### 33. How to get the dates of yesterday, today and tomorrow? (★☆☆) \n",
        "(**hint**: np.datetime64, np.timedelta64)"
      ]
    },
    {
      "cell_type": "code",
      "execution_count": null,
      "metadata": {
        "collapsed": true,
        "id": "7aruyVlU5ya-",
        "colab": {
          "base_uri": "https://localhost:8080/"
        },
        "outputId": "a847c4b8-ad26-4c5b-eb47-eaeffa944fae"
      },
      "outputs": [
        {
          "output_type": "stream",
          "name": "stdout",
          "text": [
            "2022-10-29 2022-10-30 2022-10-31\n"
          ]
        }
      ],
      "source": [
        "import numpy as np\n",
        "y = np.datetime64('today') - np.timedelta64(1)\n",
        "t = np.datetime64('today')\n",
        "tom  = np.datetime64('today') + np.timedelta64(1)\n",
        "print(y,t,tom)"
      ]
    },
    {
      "cell_type": "markdown",
      "metadata": {
        "id": "9cZBR8EQ5ya-"
      },
      "source": [
        "#### 34. How to get all the dates corresponding to the month of July 2016? (★★☆) \n",
        "(**hint**: np.arange(dtype=datetime64\\['D'\\]))"
      ]
    },
    {
      "cell_type": "code",
      "execution_count": null,
      "metadata": {
        "id": "WgSxnPVk5ya_",
        "colab": {
          "base_uri": "https://localhost:8080/"
        },
        "outputId": "fee121dd-5338-4ac1-8b59-c07080315384"
      },
      "outputs": [
        {
          "output_type": "stream",
          "name": "stdout",
          "text": [
            "['2016-07-01' '2016-07-02' '2016-07-03' '2016-07-04' '2016-07-05'\n",
            " '2016-07-06' '2016-07-07' '2016-07-08' '2016-07-09' '2016-07-10'\n",
            " '2016-07-11' '2016-07-12' '2016-07-13' '2016-07-14' '2016-07-15'\n",
            " '2016-07-16' '2016-07-17' '2016-07-18' '2016-07-19' '2016-07-20'\n",
            " '2016-07-21' '2016-07-22' '2016-07-23' '2016-07-24' '2016-07-25'\n",
            " '2016-07-26' '2016-07-27' '2016-07-28' '2016-07-29' '2016-07-30'\n",
            " '2016-07-31']\n"
          ]
        }
      ],
      "source": [
        "import numpy as np\n",
        "n = np.arange('2016-07', '2016-08', dtype='datetime64[D]')\n",
        "print(n)"
      ]
    },
    {
      "cell_type": "markdown",
      "metadata": {
        "id": "2wmaYXaf5ya_"
      },
      "source": [
        "#### 35. How to compute ((A+B)\\*(-A/2)) in place (without copy)? (★★☆) \n",
        "(**hint**: np.add(out=), np.negative(out=), np.multiply(out=), np.divide(out=))"
      ]
    },
    {
      "cell_type": "code",
      "execution_count": null,
      "metadata": {
        "id": "aI9V77wP5ya_",
        "colab": {
          "base_uri": "https://localhost:8080/"
        },
        "outputId": "5fed1726-6b01-43dc-bac7-4d128899a936"
      },
      "outputs": [
        {
          "output_type": "execute_result",
          "data": {
            "text/plain": [
              "array([-1.5, -1.5, -1.5])"
            ]
          },
          "metadata": {},
          "execution_count": 43
        }
      ],
      "source": [
        "import numpy as np\n",
        "A = np.ones(3)*1\n",
        "B = np.ones(3)*2\n",
        "np.add(A,B,out=B)\n",
        "np.divide(A,2,out=A)\n",
        "np.negative(A,out=A)\n",
        "np.multiply(A,B,out=A)"
      ]
    },
    {
      "cell_type": "markdown",
      "metadata": {
        "id": "xqdyvWKF5ya_"
      },
      "source": [
        "#### 36. Extract the integer part of a random array using 5 different methods (★★☆) \n",
        "(**hint**: %, np.floor, np.ceil, astype, np.trunc)"
      ]
    },
    {
      "cell_type": "code",
      "execution_count": null,
      "metadata": {
        "id": "PLyQzG9q5ybA",
        "colab": {
          "base_uri": "https://localhost:8080/"
        },
        "outputId": "1aef8d48-bbee-4d1d-c575-84cded623b16"
      },
      "outputs": [
        {
          "output_type": "stream",
          "name": "stdout",
          "text": [
            "[2. 3. 3. 7. 0. 4. 0. 1. 7. 6.]\n",
            "[2. 3. 3. 7. 0. 4. 0. 1. 7. 6.]\n",
            "[2. 3. 3. 7. 0. 4. 0. 1. 7. 6.]\n",
            "[2 3 3 7 0 4 0 1 7 6]\n",
            "[2. 3. 3. 7. 0. 4. 0. 1. 7. 6.]\n"
          ]
        }
      ],
      "source": [
        "import numpy as np\n",
        "n = np.random.uniform(0,10,10)\n",
        "\n",
        "print(n - n%1)\n",
        "print(n // 1)\n",
        "print(np.floor(n))\n",
        "print(n.astype(int))\n",
        "print(np.trunc(n))"
      ]
    },
    {
      "cell_type": "markdown",
      "metadata": {
        "id": "achL1zLR5ybA"
      },
      "source": [
        "#### 37. Create a 5x5 matrix with row values ranging from 0 to 4 (★★☆) \n",
        "(**hint**: np.arange)"
      ]
    },
    {
      "cell_type": "code",
      "execution_count": 1,
      "metadata": {
        "id": "Ac64kB7i5ybB",
        "colab": {
          "base_uri": "https://localhost:8080/"
        },
        "outputId": "d2b7ad27-c2ee-4438-991e-45950693017d"
      },
      "outputs": [
        {
          "output_type": "stream",
          "name": "stdout",
          "text": [
            "[[0. 1. 2. 3. 4.]\n",
            " [0. 1. 2. 3. 4.]\n",
            " [0. 1. 2. 3. 4.]\n",
            " [0. 1. 2. 3. 4.]\n",
            " [0. 1. 2. 3. 4.]]\n"
          ]
        }
      ],
      "source": [
        "import numpy as np\n",
        "n = np.zeros((5,5))\n",
        "n += np.arange(5)\n",
        "print(n)"
      ]
    },
    {
      "cell_type": "markdown",
      "metadata": {
        "id": "qpsPki7H5ybC"
      },
      "source": [
        "#### 38. Consider a generator function that generates 10 integers and use it to build an array (★☆☆) \n",
        "(**hint**: np.fromiter)"
      ]
    },
    {
      "cell_type": "code",
      "execution_count": 2,
      "metadata": {
        "id": "mTnHDP1A5ybC",
        "colab": {
          "base_uri": "https://localhost:8080/"
        },
        "outputId": "889d3641-5476-4e30-e19a-6b45c3597e58"
      },
      "outputs": [
        {
          "output_type": "stream",
          "name": "stdout",
          "text": [
            "[0. 1. 2. 3. 4. 5. 6. 7. 8. 9.]\n"
          ]
        }
      ],
      "source": [
        "import numpy as np\n",
        "def gen():\n",
        "    for n in range(10):\n",
        "        yield n\n",
        "n1 = np.fromiter(gen(),dtype=float,count=-1)\n",
        "print(n1)"
      ]
    },
    {
      "cell_type": "markdown",
      "metadata": {
        "id": "agOQESsK5ybD"
      },
      "source": [
        "#### 39. Create a vector of size 10 with values ranging from 0 to 1, both excluded (★★☆) \n",
        "(**hint**: np.linspace)"
      ]
    },
    {
      "cell_type": "code",
      "execution_count": 3,
      "metadata": {
        "id": "qHw2WaWs5ybE",
        "colab": {
          "base_uri": "https://localhost:8080/"
        },
        "outputId": "db3e717d-0ab8-4eb0-cd5d-f900dfa84f36"
      },
      "outputs": [
        {
          "output_type": "stream",
          "name": "stdout",
          "text": [
            "[0.09090909 0.18181818 0.27272727 0.36363636 0.45454545 0.54545455\n",
            " 0.63636364 0.72727273 0.81818182 0.90909091]\n"
          ]
        }
      ],
      "source": [
        "import numpy as np\n",
        "n = np.linspace(0,1,11,endpoint=False)[1:]\n",
        "print(n)"
      ]
    },
    {
      "cell_type": "markdown",
      "metadata": {
        "id": "9Pe_m4315ybE"
      },
      "source": [
        "#### 40. Create a random vector of size 10 and sort it (★★☆) \n",
        "(**hint**: sort)"
      ]
    },
    {
      "cell_type": "code",
      "execution_count": 4,
      "metadata": {
        "id": "uuuPSLZa5ybE",
        "colab": {
          "base_uri": "https://localhost:8080/"
        },
        "outputId": "c1d1337c-b76d-40cd-e7f3-467e93a2c749"
      },
      "outputs": [
        {
          "output_type": "stream",
          "name": "stdout",
          "text": [
            "[0.04112325 0.07144531 0.15947939 0.24123206 0.33136125 0.35714771\n",
            " 0.62608685 0.62635107 0.68721363 0.72994148]\n"
          ]
        }
      ],
      "source": [
        "import numpy as np\n",
        "n = np.random.random(10)\n",
        "n.sort()\n",
        "print(n)"
      ]
    },
    {
      "cell_type": "markdown",
      "metadata": {
        "id": "xuSTmPYi5ybE"
      },
      "source": [
        "#### 41. How to sum a small array faster than np.sum? (★★☆) \n",
        "(**hint**: np.add.reduce)"
      ]
    },
    {
      "cell_type": "code",
      "execution_count": 5,
      "metadata": {
        "id": "BDePLTuZ5ybF",
        "colab": {
          "base_uri": "https://localhost:8080/"
        },
        "outputId": "ae3f3232-4116-4c1b-8572-718e486243c9"
      },
      "outputs": [
        {
          "output_type": "execute_result",
          "data": {
            "text/plain": [
              "45"
            ]
          },
          "metadata": {},
          "execution_count": 5
        }
      ],
      "source": [
        "import numpy as np\n",
        "n = np.arange(10)\n",
        "np.add.reduce(n)"
      ]
    },
    {
      "cell_type": "markdown",
      "metadata": {
        "id": "GDFSQVQZ5ybF"
      },
      "source": [
        "#### 42. Consider two random array A and B, check if they are equal (★★☆) \n",
        "(**hint**: np.allclose, np.array\\_equal)"
      ]
    },
    {
      "cell_type": "code",
      "execution_count": 6,
      "metadata": {
        "id": "Guyu3tmu5ybF",
        "colab": {
          "base_uri": "https://localhost:8080/"
        },
        "outputId": "b89b2c2f-10c5-491a-8707-ac5cb52f0ee1"
      },
      "outputs": [
        {
          "output_type": "stream",
          "name": "stdout",
          "text": [
            "False\n",
            "False\n"
          ]
        }
      ],
      "source": [
        "import numpy as np\n",
        "A = np.random.randint(0,2,5)\n",
        "B = np.random.randint(0,2,5)\n",
        "equal = np.allclose(A,B)\n",
        "print(equal)\n",
        "equal = np.array_equal(A,B)\n",
        "print(equal)"
      ]
    },
    {
      "cell_type": "markdown",
      "metadata": {
        "id": "FKEBYn5S5ybG"
      },
      "source": [
        "#### 43. Make an array immutable (read-only) (★★☆) \n",
        "(**hint**: flags.writeable)"
      ]
    },
    {
      "cell_type": "code",
      "execution_count": 11,
      "metadata": {
        "id": "wyKO0ELD5ybG",
        "colab": {
          "base_uri": "https://localhost:8080/"
        },
        "outputId": "079a0d4d-25a3-4e37-a76f-39e075e6cd11"
      },
      "outputs": [
        {
          "output_type": "stream",
          "name": "stdout",
          "text": [
            "[0. 0. 0. 0. 0. 0. 0. 0. 0. 0.]\n"
          ]
        }
      ],
      "source": [
        "import numpy as np\n",
        "n = np.zeros(10)\n",
        "n.flags.writeable = False\n",
        "print(n)"
      ]
    },
    {
      "cell_type": "markdown",
      "metadata": {
        "id": "_ptq8FZi5ybG"
      },
      "source": [
        "#### 44. Consider a random 10x2 matrix representing cartesian coordinates, convert them to polar coordinates (★★☆) \n",
        "(**hint**: np.sqrt, np.arctan2)"
      ]
    },
    {
      "cell_type": "code",
      "execution_count": 12,
      "metadata": {
        "id": "tpAmSd_g5ybG",
        "colab": {
          "base_uri": "https://localhost:8080/"
        },
        "outputId": "49d0b9dd-21a2-4375-a295-c243bb7496be"
      },
      "outputs": [
        {
          "output_type": "stream",
          "name": "stdout",
          "text": [
            "[0.43283124 0.97936353 0.8873387  0.99981891 0.99834657 0.99030798\n",
            " 0.19191104 1.00049288 0.32540056 0.15784054]\n",
            "[0.02073239 0.708291   0.32474707 1.56464576 0.37433954 0.2952186\n",
            " 1.10988277 0.54917495 1.46358608 0.89708196]\n"
          ]
        }
      ],
      "source": [
        "import numpy as np\n",
        "n = np.random.random((10,2))\n",
        "n1,n2 = n[:,0], n[:,1]\n",
        "n3 = np.sqrt(n1**2+n2**2)\n",
        "n4 = np.arctan2(n2,n1)\n",
        "print(n3)\n",
        "print(n4)"
      ]
    },
    {
      "cell_type": "markdown",
      "metadata": {
        "id": "FNzhwuqa5ybH"
      },
      "source": [
        "#### 45. Create random vector of size 10 and replace the maximum value by 0 (★★☆) \n",
        "(**hint**: argmax)"
      ]
    },
    {
      "cell_type": "code",
      "execution_count": 13,
      "metadata": {
        "id": "620QuqBO5ybH",
        "colab": {
          "base_uri": "https://localhost:8080/"
        },
        "outputId": "3259a621-3af2-4fd1-a93e-b5338296aa1f"
      },
      "outputs": [
        {
          "output_type": "stream",
          "name": "stdout",
          "text": [
            "[0.22174899 0.12783306 0.         0.79895065 0.69621796 0.15064343\n",
            " 0.56000336 0.73377028 0.428718   0.76578647]\n"
          ]
        }
      ],
      "source": [
        "import numpy as np\n",
        "n = np.random.random(10)\n",
        "n[n.argmax()] = 0\n",
        "print(n)"
      ]
    },
    {
      "cell_type": "markdown",
      "metadata": {
        "id": "PWGumCVI5ybH"
      },
      "source": [
        "#### 46. Create a structured array with `x` and `y` coordinates covering the \\[0,1\\]x\\[0,1\\] area (★★☆) \n",
        "(**hint**: np.meshgrid)"
      ]
    },
    {
      "cell_type": "code",
      "execution_count": 14,
      "metadata": {
        "id": "E_zEGGVV5ybI",
        "colab": {
          "base_uri": "https://localhost:8080/"
        },
        "outputId": "ebf74653-d027-48f3-da44-8e33c3422399"
      },
      "outputs": [
        {
          "output_type": "stream",
          "name": "stdout",
          "text": [
            "[[(0.  , 0.  ) (0.25, 0.  ) (0.5 , 0.  ) (0.75, 0.  ) (1.  , 0.  )]\n",
            " [(0.  , 0.25) (0.25, 0.25) (0.5 , 0.25) (0.75, 0.25) (1.  , 0.25)]\n",
            " [(0.  , 0.5 ) (0.25, 0.5 ) (0.5 , 0.5 ) (0.75, 0.5 ) (1.  , 0.5 )]\n",
            " [(0.  , 0.75) (0.25, 0.75) (0.5 , 0.75) (0.75, 0.75) (1.  , 0.75)]\n",
            " [(0.  , 1.  ) (0.25, 1.  ) (0.5 , 1.  ) (0.75, 1.  ) (1.  , 1.  )]]\n"
          ]
        }
      ],
      "source": [
        "import numpy as np\n",
        "n = np.zeros((5,5), [('n1',float),('n2',float)])\n",
        "n['n1'], n['n2'] = np.meshgrid(np.linspace(0,1,5),\n",
        "                             np.linspace(0,1,5))\n",
        "print(n)"
      ]
    },
    {
      "cell_type": "markdown",
      "metadata": {
        "id": "2_DFHAye5ybI"
      },
      "source": [
        "####  47. Given two arrays, X and Y, construct the Cauchy matrix C (Cij =1/(xi - yj)) \n",
        "(**hint**: np.subtract.outer)"
      ]
    },
    {
      "cell_type": "code",
      "execution_count": 15,
      "metadata": {
        "id": "FnkzHnwA5ybI",
        "colab": {
          "base_uri": "https://localhost:8080/"
        },
        "outputId": "0b9bf5e9-fd51-4ca6-908a-39dc6840fbf7"
      },
      "outputs": [
        {
          "output_type": "stream",
          "name": "stdout",
          "text": [
            "3638.163637117973\n"
          ]
        }
      ],
      "source": [
        "import numpy as np\n",
        "n = np.arange(8)\n",
        "n1 = n + 0.5\n",
        "n2 = 1.0 / np.subtract.outer(n, n1)\n",
        "print(np.linalg.det(n2))"
      ]
    },
    {
      "cell_type": "markdown",
      "metadata": {
        "id": "w0x_NLCC5ybJ"
      },
      "source": [
        "#### 48. Print the minimum and maximum representable value for each numpy scalar type (★★☆) \n",
        "(**hint**: np.iinfo, np.finfo, eps)"
      ]
    },
    {
      "cell_type": "code",
      "execution_count": 16,
      "metadata": {
        "id": "dD7GE3td5ybJ",
        "colab": {
          "base_uri": "https://localhost:8080/"
        },
        "outputId": "ed075d15-3da3-45a5-fe0f-a57218585809"
      },
      "outputs": [
        {
          "output_type": "stream",
          "name": "stdout",
          "text": [
            "-128\n",
            "127\n",
            "-2147483648\n",
            "2147483647\n",
            "-9223372036854775808\n",
            "9223372036854775807\n",
            "-3.4028235e+38\n",
            "3.4028235e+38\n",
            "1.1920929e-07\n",
            "-1.7976931348623157e+308\n",
            "1.7976931348623157e+308\n",
            "2.220446049250313e-16\n"
          ]
        }
      ],
      "source": [
        "import numpy as np\n",
        "for dtype in [np.int8, np.int32, np.int64]:\n",
        "   print(np.iinfo(dtype).min)\n",
        "   print(np.iinfo(dtype).max)\n",
        "for dtype in [np.float32, np.float64]:\n",
        "   print(np.finfo(dtype).min)\n",
        "   print(np.finfo(dtype).max)\n",
        "   print(np.finfo(dtype).eps)"
      ]
    },
    {
      "cell_type": "markdown",
      "metadata": {
        "id": "ciXZI6D-5ybJ"
      },
      "source": [
        "#### 49. How to print all the values of an array? (★★☆) \n",
        "(**hint**: np.set\\_printoptions)"
      ]
    },
    {
      "cell_type": "code",
      "execution_count": 17,
      "metadata": {
        "id": "obT9EW6D5ybJ",
        "colab": {
          "base_uri": "https://localhost:8080/"
        },
        "outputId": "a8cb954d-297f-4555-8cfc-f29ec3801383"
      },
      "outputs": [
        {
          "output_type": "stream",
          "name": "stdout",
          "text": [
            "[[0. 0. 0. 0. 0. 0. 0. 0. 0. 0. 0. 0. 0. 0. 0. 0. 0. 0. 0. 0. 0. 0. 0. 0.\n",
            "  0. 0. 0. 0. 0. 0. 0. 0. 0. 0. 0. 0. 0. 0. 0. 0.]\n",
            " [0. 0. 0. 0. 0. 0. 0. 0. 0. 0. 0. 0. 0. 0. 0. 0. 0. 0. 0. 0. 0. 0. 0. 0.\n",
            "  0. 0. 0. 0. 0. 0. 0. 0. 0. 0. 0. 0. 0. 0. 0. 0.]\n",
            " [0. 0. 0. 0. 0. 0. 0. 0. 0. 0. 0. 0. 0. 0. 0. 0. 0. 0. 0. 0. 0. 0. 0. 0.\n",
            "  0. 0. 0. 0. 0. 0. 0. 0. 0. 0. 0. 0. 0. 0. 0. 0.]\n",
            " [0. 0. 0. 0. 0. 0. 0. 0. 0. 0. 0. 0. 0. 0. 0. 0. 0. 0. 0. 0. 0. 0. 0. 0.\n",
            "  0. 0. 0. 0. 0. 0. 0. 0. 0. 0. 0. 0. 0. 0. 0. 0.]\n",
            " [0. 0. 0. 0. 0. 0. 0. 0. 0. 0. 0. 0. 0. 0. 0. 0. 0. 0. 0. 0. 0. 0. 0. 0.\n",
            "  0. 0. 0. 0. 0. 0. 0. 0. 0. 0. 0. 0. 0. 0. 0. 0.]\n",
            " [0. 0. 0. 0. 0. 0. 0. 0. 0. 0. 0. 0. 0. 0. 0. 0. 0. 0. 0. 0. 0. 0. 0. 0.\n",
            "  0. 0. 0. 0. 0. 0. 0. 0. 0. 0. 0. 0. 0. 0. 0. 0.]\n",
            " [0. 0. 0. 0. 0. 0. 0. 0. 0. 0. 0. 0. 0. 0. 0. 0. 0. 0. 0. 0. 0. 0. 0. 0.\n",
            "  0. 0. 0. 0. 0. 0. 0. 0. 0. 0. 0. 0. 0. 0. 0. 0.]\n",
            " [0. 0. 0. 0. 0. 0. 0. 0. 0. 0. 0. 0. 0. 0. 0. 0. 0. 0. 0. 0. 0. 0. 0. 0.\n",
            "  0. 0. 0. 0. 0. 0. 0. 0. 0. 0. 0. 0. 0. 0. 0. 0.]\n",
            " [0. 0. 0. 0. 0. 0. 0. 0. 0. 0. 0. 0. 0. 0. 0. 0. 0. 0. 0. 0. 0. 0. 0. 0.\n",
            "  0. 0. 0. 0. 0. 0. 0. 0. 0. 0. 0. 0. 0. 0. 0. 0.]\n",
            " [0. 0. 0. 0. 0. 0. 0. 0. 0. 0. 0. 0. 0. 0. 0. 0. 0. 0. 0. 0. 0. 0. 0. 0.\n",
            "  0. 0. 0. 0. 0. 0. 0. 0. 0. 0. 0. 0. 0. 0. 0. 0.]\n",
            " [0. 0. 0. 0. 0. 0. 0. 0. 0. 0. 0. 0. 0. 0. 0. 0. 0. 0. 0. 0. 0. 0. 0. 0.\n",
            "  0. 0. 0. 0. 0. 0. 0. 0. 0. 0. 0. 0. 0. 0. 0. 0.]\n",
            " [0. 0. 0. 0. 0. 0. 0. 0. 0. 0. 0. 0. 0. 0. 0. 0. 0. 0. 0. 0. 0. 0. 0. 0.\n",
            "  0. 0. 0. 0. 0. 0. 0. 0. 0. 0. 0. 0. 0. 0. 0. 0.]\n",
            " [0. 0. 0. 0. 0. 0. 0. 0. 0. 0. 0. 0. 0. 0. 0. 0. 0. 0. 0. 0. 0. 0. 0. 0.\n",
            "  0. 0. 0. 0. 0. 0. 0. 0. 0. 0. 0. 0. 0. 0. 0. 0.]\n",
            " [0. 0. 0. 0. 0. 0. 0. 0. 0. 0. 0. 0. 0. 0. 0. 0. 0. 0. 0. 0. 0. 0. 0. 0.\n",
            "  0. 0. 0. 0. 0. 0. 0. 0. 0. 0. 0. 0. 0. 0. 0. 0.]\n",
            " [0. 0. 0. 0. 0. 0. 0. 0. 0. 0. 0. 0. 0. 0. 0. 0. 0. 0. 0. 0. 0. 0. 0. 0.\n",
            "  0. 0. 0. 0. 0. 0. 0. 0. 0. 0. 0. 0. 0. 0. 0. 0.]\n",
            " [0. 0. 0. 0. 0. 0. 0. 0. 0. 0. 0. 0. 0. 0. 0. 0. 0. 0. 0. 0. 0. 0. 0. 0.\n",
            "  0. 0. 0. 0. 0. 0. 0. 0. 0. 0. 0. 0. 0. 0. 0. 0.]\n",
            " [0. 0. 0. 0. 0. 0. 0. 0. 0. 0. 0. 0. 0. 0. 0. 0. 0. 0. 0. 0. 0. 0. 0. 0.\n",
            "  0. 0. 0. 0. 0. 0. 0. 0. 0. 0. 0. 0. 0. 0. 0. 0.]\n",
            " [0. 0. 0. 0. 0. 0. 0. 0. 0. 0. 0. 0. 0. 0. 0. 0. 0. 0. 0. 0. 0. 0. 0. 0.\n",
            "  0. 0. 0. 0. 0. 0. 0. 0. 0. 0. 0. 0. 0. 0. 0. 0.]\n",
            " [0. 0. 0. 0. 0. 0. 0. 0. 0. 0. 0. 0. 0. 0. 0. 0. 0. 0. 0. 0. 0. 0. 0. 0.\n",
            "  0. 0. 0. 0. 0. 0. 0. 0. 0. 0. 0. 0. 0. 0. 0. 0.]\n",
            " [0. 0. 0. 0. 0. 0. 0. 0. 0. 0. 0. 0. 0. 0. 0. 0. 0. 0. 0. 0. 0. 0. 0. 0.\n",
            "  0. 0. 0. 0. 0. 0. 0. 0. 0. 0. 0. 0. 0. 0. 0. 0.]\n",
            " [0. 0. 0. 0. 0. 0. 0. 0. 0. 0. 0. 0. 0. 0. 0. 0. 0. 0. 0. 0. 0. 0. 0. 0.\n",
            "  0. 0. 0. 0. 0. 0. 0. 0. 0. 0. 0. 0. 0. 0. 0. 0.]\n",
            " [0. 0. 0. 0. 0. 0. 0. 0. 0. 0. 0. 0. 0. 0. 0. 0. 0. 0. 0. 0. 0. 0. 0. 0.\n",
            "  0. 0. 0. 0. 0. 0. 0. 0. 0. 0. 0. 0. 0. 0. 0. 0.]\n",
            " [0. 0. 0. 0. 0. 0. 0. 0. 0. 0. 0. 0. 0. 0. 0. 0. 0. 0. 0. 0. 0. 0. 0. 0.\n",
            "  0. 0. 0. 0. 0. 0. 0. 0. 0. 0. 0. 0. 0. 0. 0. 0.]\n",
            " [0. 0. 0. 0. 0. 0. 0. 0. 0. 0. 0. 0. 0. 0. 0. 0. 0. 0. 0. 0. 0. 0. 0. 0.\n",
            "  0. 0. 0. 0. 0. 0. 0. 0. 0. 0. 0. 0. 0. 0. 0. 0.]\n",
            " [0. 0. 0. 0. 0. 0. 0. 0. 0. 0. 0. 0. 0. 0. 0. 0. 0. 0. 0. 0. 0. 0. 0. 0.\n",
            "  0. 0. 0. 0. 0. 0. 0. 0. 0. 0. 0. 0. 0. 0. 0. 0.]\n",
            " [0. 0. 0. 0. 0. 0. 0. 0. 0. 0. 0. 0. 0. 0. 0. 0. 0. 0. 0. 0. 0. 0. 0. 0.\n",
            "  0. 0. 0. 0. 0. 0. 0. 0. 0. 0. 0. 0. 0. 0. 0. 0.]\n",
            " [0. 0. 0. 0. 0. 0. 0. 0. 0. 0. 0. 0. 0. 0. 0. 0. 0. 0. 0. 0. 0. 0. 0. 0.\n",
            "  0. 0. 0. 0. 0. 0. 0. 0. 0. 0. 0. 0. 0. 0. 0. 0.]\n",
            " [0. 0. 0. 0. 0. 0. 0. 0. 0. 0. 0. 0. 0. 0. 0. 0. 0. 0. 0. 0. 0. 0. 0. 0.\n",
            "  0. 0. 0. 0. 0. 0. 0. 0. 0. 0. 0. 0. 0. 0. 0. 0.]\n",
            " [0. 0. 0. 0. 0. 0. 0. 0. 0. 0. 0. 0. 0. 0. 0. 0. 0. 0. 0. 0. 0. 0. 0. 0.\n",
            "  0. 0. 0. 0. 0. 0. 0. 0. 0. 0. 0. 0. 0. 0. 0. 0.]\n",
            " [0. 0. 0. 0. 0. 0. 0. 0. 0. 0. 0. 0. 0. 0. 0. 0. 0. 0. 0. 0. 0. 0. 0. 0.\n",
            "  0. 0. 0. 0. 0. 0. 0. 0. 0. 0. 0. 0. 0. 0. 0. 0.]\n",
            " [0. 0. 0. 0. 0. 0. 0. 0. 0. 0. 0. 0. 0. 0. 0. 0. 0. 0. 0. 0. 0. 0. 0. 0.\n",
            "  0. 0. 0. 0. 0. 0. 0. 0. 0. 0. 0. 0. 0. 0. 0. 0.]\n",
            " [0. 0. 0. 0. 0. 0. 0. 0. 0. 0. 0. 0. 0. 0. 0. 0. 0. 0. 0. 0. 0. 0. 0. 0.\n",
            "  0. 0. 0. 0. 0. 0. 0. 0. 0. 0. 0. 0. 0. 0. 0. 0.]\n",
            " [0. 0. 0. 0. 0. 0. 0. 0. 0. 0. 0. 0. 0. 0. 0. 0. 0. 0. 0. 0. 0. 0. 0. 0.\n",
            "  0. 0. 0. 0. 0. 0. 0. 0. 0. 0. 0. 0. 0. 0. 0. 0.]\n",
            " [0. 0. 0. 0. 0. 0. 0. 0. 0. 0. 0. 0. 0. 0. 0. 0. 0. 0. 0. 0. 0. 0. 0. 0.\n",
            "  0. 0. 0. 0. 0. 0. 0. 0. 0. 0. 0. 0. 0. 0. 0. 0.]\n",
            " [0. 0. 0. 0. 0. 0. 0. 0. 0. 0. 0. 0. 0. 0. 0. 0. 0. 0. 0. 0. 0. 0. 0. 0.\n",
            "  0. 0. 0. 0. 0. 0. 0. 0. 0. 0. 0. 0. 0. 0. 0. 0.]\n",
            " [0. 0. 0. 0. 0. 0. 0. 0. 0. 0. 0. 0. 0. 0. 0. 0. 0. 0. 0. 0. 0. 0. 0. 0.\n",
            "  0. 0. 0. 0. 0. 0. 0. 0. 0. 0. 0. 0. 0. 0. 0. 0.]\n",
            " [0. 0. 0. 0. 0. 0. 0. 0. 0. 0. 0. 0. 0. 0. 0. 0. 0. 0. 0. 0. 0. 0. 0. 0.\n",
            "  0. 0. 0. 0. 0. 0. 0. 0. 0. 0. 0. 0. 0. 0. 0. 0.]\n",
            " [0. 0. 0. 0. 0. 0. 0. 0. 0. 0. 0. 0. 0. 0. 0. 0. 0. 0. 0. 0. 0. 0. 0. 0.\n",
            "  0. 0. 0. 0. 0. 0. 0. 0. 0. 0. 0. 0. 0. 0. 0. 0.]\n",
            " [0. 0. 0. 0. 0. 0. 0. 0. 0. 0. 0. 0. 0. 0. 0. 0. 0. 0. 0. 0. 0. 0. 0. 0.\n",
            "  0. 0. 0. 0. 0. 0. 0. 0. 0. 0. 0. 0. 0. 0. 0. 0.]\n",
            " [0. 0. 0. 0. 0. 0. 0. 0. 0. 0. 0. 0. 0. 0. 0. 0. 0. 0. 0. 0. 0. 0. 0. 0.\n",
            "  0. 0. 0. 0. 0. 0. 0. 0. 0. 0. 0. 0. 0. 0. 0. 0.]]\n"
          ]
        }
      ],
      "source": [
        "import numpy as np\n",
        "np.set_printoptions(threshold=float(\"inf\"))\n",
        "n = np.zeros((40,40))\n",
        "print(n)"
      ]
    },
    {
      "cell_type": "markdown",
      "metadata": {
        "id": "Vvsd4Yxw5ybK"
      },
      "source": [
        "#### 50. How to find the closest value (to a given scalar) in a vector? (★★☆) \n",
        "(**hint**: argmin)"
      ]
    },
    {
      "cell_type": "code",
      "execution_count": 18,
      "metadata": {
        "id": "TaOyRH2I5ybK",
        "colab": {
          "base_uri": "https://localhost:8080/"
        },
        "outputId": "7a9dbae5-a5ab-403b-8316-9a8c296fe9a1"
      },
      "outputs": [
        {
          "output_type": "stream",
          "name": "stdout",
          "text": [
            "0\n"
          ]
        }
      ],
      "source": [
        "import numpy as np\n",
        "n = np.arange(100)\n",
        "n1 = np.random.uniform(0,100)\n",
        "index = (np.abs(n-n1)).argmin()\n",
        "print(n[index])"
      ]
    },
    {
      "cell_type": "markdown",
      "metadata": {
        "id": "Pilj0Qfb5ybK"
      },
      "source": [
        "#### 51. Create a structured array representing a position (x,y) and a color (r,g,b) (★★☆) \n",
        "(**hint**: dtype)"
      ]
    },
    {
      "cell_type": "code",
      "execution_count": 19,
      "metadata": {
        "id": "X_k6vyVl5ybL",
        "colab": {
          "base_uri": "https://localhost:8080/"
        },
        "outputId": "bdcec8d0-1e5b-4858-ad83-f6cb62ba1387"
      },
      "outputs": [
        {
          "output_type": "stream",
          "name": "stdout",
          "text": [
            "[((0., 0.), (0., 0., 0.)) ((0., 0.), (0., 0., 0.))\n",
            " ((0., 0.), (0., 0., 0.)) ((0., 0.), (0., 0., 0.))\n",
            " ((0., 0.), (0., 0., 0.)) ((0., 0.), (0., 0., 0.))\n",
            " ((0., 0.), (0., 0., 0.)) ((0., 0.), (0., 0., 0.))\n",
            " ((0., 0.), (0., 0., 0.)) ((0., 0.), (0., 0., 0.))]\n"
          ]
        },
        {
          "output_type": "stream",
          "name": "stderr",
          "text": [
            "/usr/local/lib/python3.7/dist-packages/ipykernel_launcher.py:6: FutureWarning: Passing (type, 1) or '1type' as a synonym of type is deprecated; in a future version of numpy, it will be understood as (type, (1,)) / '(1,)type'.\n",
            "  \n"
          ]
        }
      ],
      "source": [
        "import numpy as np\n",
        "n = np.zeros(10, [ ('position', [ ('x', float, 1),\n",
        "                                  ('y', float, 1)]),\n",
        "                   ('color',    [ ('r', float, 1),\n",
        "                                  ('g', float, 1),\n",
        "                                  ('b', float, 1)])])\n",
        "print(n)"
      ]
    },
    {
      "cell_type": "markdown",
      "metadata": {
        "id": "vKe9am-H5ybL"
      },
      "source": [
        "#### 52. Consider a random vector with shape (100,2) representing coordinates, find point by point distances (★★☆) \n",
        "(**hint**: np.atleast\\_2d, T, np.sqrt)"
      ]
    },
    {
      "cell_type": "code",
      "execution_count": 20,
      "metadata": {
        "id": "XFpuFq1Z5ybM",
        "colab": {
          "base_uri": "https://localhost:8080/"
        },
        "outputId": "62ae2ba1-42d9-460f-e977-36aef7382649"
      },
      "outputs": [
        {
          "output_type": "stream",
          "name": "stdout",
          "text": [
            "[[0.         0.29194522 0.41394937 0.44295003 0.37926595 0.34327075\n",
            "  0.16109667 0.27144023 0.80465265 0.43181201]\n",
            " [0.29194522 0.         0.25197929 0.31517081 0.44948256 0.37436413\n",
            "  0.45302235 0.23810756 0.76688856 0.20312918]\n",
            " [0.41394937 0.25197929 0.         0.0682062  0.31164113 0.6166148\n",
            "  0.55262276 0.4822324  0.52326339 0.42902607]\n",
            " [0.44295003 0.31517081 0.0682062  0.         0.27268623 0.67220073\n",
            "  0.56972806 0.53961779 0.45562167 0.49673597]\n",
            " [0.37926595 0.44948256 0.31164113 0.27268623 0.         0.70502983\n",
            "  0.43251124 0.59789988 0.43815884 0.65245012]\n",
            " [0.34327075 0.37436413 0.6166148  0.67220073 0.70502983 0.\n",
            "  0.42007335 0.13625711 1.10044878 0.32404926]\n",
            " [0.16109667 0.45302235 0.55262276 0.56972806 0.43251124 0.42007335\n",
            "  0.         0.39335494 0.87061402 0.58176263]\n",
            " [0.27144023 0.23810756 0.4822324  0.53961779 0.59789988 0.13625711\n",
            "  0.39335494 0.         0.97575216 0.22193566]\n",
            " [0.80465265 0.76688856 0.52326339 0.45562167 0.43815884 1.10044878\n",
            "  0.87061402 0.97575216 0.         0.95227803]\n",
            " [0.43181201 0.20312918 0.42902607 0.49673597 0.65245012 0.32404926\n",
            "  0.58176263 0.22193566 0.95227803 0.        ]]\n",
            "[[0.         0.28971383 0.20313527 0.3979478  0.69231372 0.37174966\n",
            "  0.43587391 0.8615689  0.7796621  0.60737825]\n",
            " [0.28971383 0.         0.16181942 0.48279494 0.41539179 0.45749069\n",
            "  0.20799385 0.59081947 0.49169986 0.36364037]\n",
            " [0.20313527 0.16181942 0.         0.3268764  0.50558864 0.30062222\n",
            "  0.23707162 0.74682504 0.60726042 0.52544909]\n",
            " [0.3979478  0.48279494 0.3268764  0.         0.70093231 0.02727012\n",
            "  0.44103753 1.03724533 0.82916269 0.84196   ]\n",
            " [0.69231372 0.41539179 0.50558864 0.70093231 0.         0.6863203\n",
            "  0.27693017 0.43662494 0.1357894  0.42514993]\n",
            " [0.37174966 0.45749069 0.30062222 0.02727012 0.6863203  0.\n",
            "  0.4228328  1.01585284 0.81315787 0.81762156]\n",
            " [0.43587391 0.20799385 0.23707162 0.44103753 0.27693017 0.4228328\n",
            "  0.         0.60543315 0.3941514  0.45530843]\n",
            " [0.8615689  0.59081947 0.74682504 1.03724533 0.43662494 1.01585284\n",
            "  0.60543315 0.         0.32458082 0.27021027]\n",
            " [0.7796621  0.49169986 0.60726042 0.82916269 0.1357894  0.81315787\n",
            "  0.3941514  0.32458082 0.         0.38898428]\n",
            " [0.60737825 0.36364037 0.52544909 0.84196    0.42514993 0.81762156\n",
            "  0.45530843 0.27021027 0.38898428 0.        ]]\n"
          ]
        }
      ],
      "source": [
        "import numpy as np\n",
        "import scipy\n",
        "import scipy.spatial\n",
        "n = np.random.random((10,2))\n",
        "n1,n2 = np.atleast_2d(n[:,0], n[:,1])\n",
        "n3 = np.sqrt( (n1-n1.T)**2 + (n2-n2.T)**2)\n",
        "print(n3)\n",
        "\n",
        "\n",
        "n = np.random.random((10,2))\n",
        "n3 = scipy.spatial.distance.cdist(n,n)\n",
        "print(n3)"
      ]
    },
    {
      "cell_type": "markdown",
      "metadata": {
        "id": "y55ALu-H5ybN"
      },
      "source": [
        "#### 53. How to convert a float (32 bits) array into an integer (32 bits) in place? \n",
        "(**hint**: astype(copy=False))"
      ]
    },
    {
      "cell_type": "code",
      "execution_count": 21,
      "metadata": {
        "id": "KiVHDc6L5ybN",
        "colab": {
          "base_uri": "https://localhost:8080/"
        },
        "outputId": "cf0c2d8c-6102-44a3-db5c-9a5390c955ea"
      },
      "outputs": [
        {
          "output_type": "stream",
          "name": "stdout",
          "text": [
            "[10 84 54 96 48  0 84 14 67 25]\n"
          ]
        }
      ],
      "source": [
        "import numpy as np\n",
        "n = (np.random.rand(10)*100).astype(np.float32)\n",
        "n1 = n.view(np.int32)\n",
        "n1[:] = n\n",
        "print(n1)"
      ]
    },
    {
      "cell_type": "markdown",
      "metadata": {
        "id": "qZ2A3-S-5ybN"
      },
      "source": [
        "#### 54. How to read the following file? (★★☆) \n",
        "(**hint**: np.genfromtxt)"
      ]
    },
    {
      "cell_type": "markdown",
      "metadata": {
        "id": "9YTLlBgD5ybO"
      },
      "source": [
        "```\n",
        "1, 2, 3, 4, 5\n",
        "6,  ,  , 7, 8\n",
        " ,  , 9,10,11\n",
        "```"
      ]
    },
    {
      "cell_type": "code",
      "execution_count": 22,
      "metadata": {
        "id": "J7b3jP5f5ybO",
        "colab": {
          "base_uri": "https://localhost:8080/"
        },
        "outputId": "065e3061-f352-48a6-cf24-410a0bc4683e"
      },
      "outputs": [
        {
          "output_type": "stream",
          "name": "stdout",
          "text": [
            "[[ 1  2  3  4  5]\n",
            " [ 6 -1 -1  7  8]\n",
            " [-1 -1  9 10 11]]\n"
          ]
        },
        {
          "output_type": "stream",
          "name": "stderr",
          "text": [
            "/usr/local/lib/python3.7/dist-packages/ipykernel_launcher.py:6: DeprecationWarning: `np.int` is a deprecated alias for the builtin `int`. To silence this warning, use `int` by itself. Doing this will not modify any behavior and is safe. When replacing `np.int`, you may wish to use e.g. `np.int64` or `np.int32` to specify the precision. If you wish to review your current use, check the release note link for additional information.\n",
            "Deprecated in NumPy 1.20; for more details and guidance: https://numpy.org/devdocs/release/1.20.0-notes.html#deprecations\n",
            "  \n"
          ]
        }
      ],
      "source": [
        "from io import StringIO\n",
        "s = StringIO('''1, 2, 3, 4, 5\n",
        "                6,  ,  , 7, 8\n",
        "                 ,  , 9,10,11\n",
        "''')\n",
        "n = np.genfromtxt(s, delimiter=\",\", dtype=np.int)\n",
        "print(n)"
      ]
    },
    {
      "cell_type": "markdown",
      "metadata": {
        "id": "Itz9jxBM5ybP"
      },
      "source": [
        "#### 55. What is the equivalent of enumerate for numpy arrays? (★★☆) \n",
        "(**hint**: np.ndenumerate, np.ndindex)"
      ]
    },
    {
      "cell_type": "code",
      "execution_count": 23,
      "metadata": {
        "id": "g64DUesQ5ybP",
        "colab": {
          "base_uri": "https://localhost:8080/"
        },
        "outputId": "711d5fc5-2eff-4919-b790-03676f380311"
      },
      "outputs": [
        {
          "output_type": "stream",
          "name": "stdout",
          "text": [
            "(0, 0) 0\n",
            "(0, 1) 1\n",
            "(0, 2) 2\n",
            "(1, 0) 3\n",
            "(1, 1) 4\n",
            "(1, 2) 5\n",
            "(2, 0) 6\n",
            "(2, 1) 7\n",
            "(2, 2) 8\n",
            "(0, 0) 0\n",
            "(0, 1) 1\n",
            "(0, 2) 2\n",
            "(1, 0) 3\n",
            "(1, 1) 4\n",
            "(1, 2) 5\n",
            "(2, 0) 6\n",
            "(2, 1) 7\n",
            "(2, 2) 8\n"
          ]
        }
      ],
      "source": [
        "import numpy as np\n",
        "n = np.arange(9).reshape(3,3)\n",
        "for index, value in np.ndenumerate(n):\n",
        "    print(index, value)\n",
        "for index in np.ndindex(n.shape):\n",
        "    print(index, n[index])"
      ]
    },
    {
      "cell_type": "markdown",
      "metadata": {
        "id": "lFgJhNwW5ybP"
      },
      "source": [
        "#### 56. Generate a generic 2D Gaussian-like array (★★☆) \n",
        "(**hint**: np.meshgrid, np.exp)"
      ]
    },
    {
      "cell_type": "code",
      "execution_count": 24,
      "metadata": {
        "id": "TR7EZuJa5ybP",
        "colab": {
          "base_uri": "https://localhost:8080/"
        },
        "outputId": "e6e96d31-6a0f-401d-fe02-f5dda9c67669"
      },
      "outputs": [
        {
          "output_type": "stream",
          "name": "stdout",
          "text": [
            "[[0.36787944 0.44822088 0.51979489 0.57375342 0.60279818 0.60279818\n",
            "  0.57375342 0.51979489 0.44822088 0.36787944]\n",
            " [0.44822088 0.54610814 0.63331324 0.69905581 0.73444367 0.73444367\n",
            "  0.69905581 0.63331324 0.54610814 0.44822088]\n",
            " [0.51979489 0.63331324 0.73444367 0.81068432 0.85172308 0.85172308\n",
            "  0.81068432 0.73444367 0.63331324 0.51979489]\n",
            " [0.57375342 0.69905581 0.81068432 0.89483932 0.9401382  0.9401382\n",
            "  0.89483932 0.81068432 0.69905581 0.57375342]\n",
            " [0.60279818 0.73444367 0.85172308 0.9401382  0.98773022 0.98773022\n",
            "  0.9401382  0.85172308 0.73444367 0.60279818]\n",
            " [0.60279818 0.73444367 0.85172308 0.9401382  0.98773022 0.98773022\n",
            "  0.9401382  0.85172308 0.73444367 0.60279818]\n",
            " [0.57375342 0.69905581 0.81068432 0.89483932 0.9401382  0.9401382\n",
            "  0.89483932 0.81068432 0.69905581 0.57375342]\n",
            " [0.51979489 0.63331324 0.73444367 0.81068432 0.85172308 0.85172308\n",
            "  0.81068432 0.73444367 0.63331324 0.51979489]\n",
            " [0.44822088 0.54610814 0.63331324 0.69905581 0.73444367 0.73444367\n",
            "  0.69905581 0.63331324 0.54610814 0.44822088]\n",
            " [0.36787944 0.44822088 0.51979489 0.57375342 0.60279818 0.60279818\n",
            "  0.57375342 0.51979489 0.44822088 0.36787944]]\n"
          ]
        }
      ],
      "source": [
        "import numpy as np\n",
        "n, n1 = np.meshgrid(np.linspace(-1,1,10), np.linspace(-1,1,10))\n",
        "n2 = np.sqrt(n*n+n1*n1)\n",
        "sigma, mu = 1.0, 0.0\n",
        "n3 = np.exp(-( (n2-mu)**2 / ( 2.0 * sigma**2 ) ) )\n",
        "print(n3)"
      ]
    },
    {
      "cell_type": "markdown",
      "metadata": {
        "id": "bi4F1dyb5ybQ"
      },
      "source": [
        "#### 57. How to randomly place p elements in a 2D array? (★★☆) \n",
        "(**hint**: np.put, np.random.choice)"
      ]
    },
    {
      "cell_type": "code",
      "execution_count": 25,
      "metadata": {
        "id": "3ezqNCK15ybQ",
        "colab": {
          "base_uri": "https://localhost:8080/"
        },
        "outputId": "3990c84a-2783-4abe-93ed-ca3278a5d05a"
      },
      "outputs": [
        {
          "output_type": "stream",
          "name": "stdout",
          "text": [
            "[[0. 0. 0. 0. 0. 0. 0. 0. 0. 0.]\n",
            " [0. 0. 0. 0. 0. 0. 0. 0. 0. 0.]\n",
            " [0. 0. 0. 0. 0. 0. 0. 1. 0. 0.]\n",
            " [0. 0. 0. 0. 0. 0. 0. 0. 0. 0.]\n",
            " [0. 0. 0. 0. 0. 0. 0. 0. 0. 0.]\n",
            " [0. 0. 0. 0. 0. 0. 0. 0. 0. 0.]\n",
            " [0. 0. 0. 0. 0. 0. 0. 0. 0. 1.]\n",
            " [0. 0. 0. 0. 0. 0. 0. 1. 0. 0.]\n",
            " [0. 0. 0. 0. 0. 0. 0. 0. 0. 0.]\n",
            " [0. 0. 0. 0. 0. 0. 0. 0. 0. 0.]]\n"
          ]
        }
      ],
      "source": [
        "import numpy as np\n",
        "n = 10\n",
        "n1 = 3\n",
        "n2 = np.zeros((n,n))\n",
        "np.put(n2, np.random.choice(range(n*n), n1, replace=False),1)\n",
        "print(n2)"
      ]
    },
    {
      "cell_type": "markdown",
      "metadata": {
        "id": "DlPyVR3r5ybQ"
      },
      "source": [
        "#### 58. Subtract the mean of each row of a matrix (★★☆) \n",
        "(**hint**: mean(axis=,keepdims=))"
      ]
    },
    {
      "cell_type": "code",
      "execution_count": 26,
      "metadata": {
        "id": "bI-32KMW5ybR",
        "colab": {
          "base_uri": "https://localhost:8080/"
        },
        "outputId": "f9960c22-ad9f-42ec-d785-5e63dea8dc4c"
      },
      "outputs": [
        {
          "output_type": "stream",
          "name": "stdout",
          "text": [
            "[[ 0.06322764 -0.48730282  0.14487472 -0.10105286  0.11735117 -0.39808448\n",
            "   0.25051791  0.32411762  0.28246818 -0.19611708]\n",
            " [ 0.37915198  0.34592206 -0.36833569 -0.02544561  0.2734264  -0.04182133\n",
            "  -0.29409341  0.06555957 -0.00410891 -0.33025506]\n",
            " [ 0.38546043 -0.08551094  0.15790112  0.29247248 -0.44451115 -0.25083476\n",
            "  -0.25740989 -0.12787731  0.1976131   0.13269692]\n",
            " [-0.29001975  0.16682211 -0.00273969 -0.31974    -0.32211587  0.07334684\n",
            "   0.00473414  0.54801827 -0.41478449  0.55647846]\n",
            " [ 0.24251816 -0.12335653  0.09613036  0.16754477 -0.10591232  0.32948446\n",
            "  -0.48001621 -0.0807228   0.26288356 -0.30855344]]\n"
          ]
        }
      ],
      "source": [
        "import numpy as np\n",
        "n = np.random.rand(5, 10)\n",
        "n1 = n - n.mean(axis=1, keepdims=True)\n",
        "n1 = n - n.mean(axis=1).reshape(-1, 1)\n",
        "print(n1)"
      ]
    },
    {
      "cell_type": "markdown",
      "metadata": {
        "id": "fUerMXAy5ybR"
      },
      "source": [
        "#### 59. How to sort an array by the nth column? (★★☆) \n",
        "(**hint**: argsort)"
      ]
    },
    {
      "cell_type": "code",
      "execution_count": 27,
      "metadata": {
        "id": "1T3wacfg5ybR",
        "colab": {
          "base_uri": "https://localhost:8080/"
        },
        "outputId": "985257f5-453f-46d0-be14-9c02e05ee7df"
      },
      "outputs": [
        {
          "output_type": "stream",
          "name": "stdout",
          "text": [
            "[[8 9 5]\n",
            " [3 8 1]\n",
            " [9 1 6]]\n",
            "[[9 1 6]\n",
            " [3 8 1]\n",
            " [8 9 5]]\n"
          ]
        }
      ],
      "source": [
        "import numpy as np\n",
        "n = np.random.randint(0,10,(3,3))\n",
        "print(n)\n",
        "print(n[n[:,1].argsort()])"
      ]
    },
    {
      "cell_type": "markdown",
      "metadata": {
        "id": "zMiC4azI5ybR"
      },
      "source": [
        "#### 60. How to tell if a given 2D array has null columns? (★★☆) \n",
        "(**hint**: any, ~)"
      ]
    },
    {
      "cell_type": "code",
      "execution_count": 28,
      "metadata": {
        "id": "fOeeDWYb5ybS",
        "colab": {
          "base_uri": "https://localhost:8080/"
        },
        "outputId": "4831c11a-96b5-43cb-d5b0-f4e24662efee"
      },
      "outputs": [
        {
          "output_type": "stream",
          "name": "stdout",
          "text": [
            "False\n",
            "[False False  True]\n"
          ]
        }
      ],
      "source": [
        "import numpy as np\n",
        "n = np.random.randint(0,3,(3,10))\n",
        "print((~n.any(axis=0)).any())\n",
        "n=np.array([\n",
        "    [0,1,np.nan],\n",
        "    [1,2,np.nan],\n",
        "    [4,5,np.nan]\n",
        "])\n",
        "print(np.isnan(n).all(axis=0))"
      ]
    },
    {
      "cell_type": "markdown",
      "metadata": {
        "id": "0Cwvg0C45ybS"
      },
      "source": [
        "#### 61. Find the nearest value from a given value in an array (★★☆) \n",
        "(**hint**: np.abs, argmin, flat)"
      ]
    },
    {
      "cell_type": "code",
      "execution_count": 29,
      "metadata": {
        "id": "AjbJ4yo65ybS",
        "colab": {
          "base_uri": "https://localhost:8080/"
        },
        "outputId": "d62be536-9b5d-43b8-8e5b-1d538fef719d"
      },
      "outputs": [
        {
          "output_type": "stream",
          "name": "stdout",
          "text": [
            "0.41314001236385356\n"
          ]
        }
      ],
      "source": [
        "import numpy as np\n",
        "n = np.random.uniform(0,1,10)\n",
        "n1 = 0.5\n",
        "n2= n.flat[np.abs(n - n1).argmin()]\n",
        "print(n2)"
      ]
    },
    {
      "cell_type": "markdown",
      "metadata": {
        "id": "FRnl-eMQ5ybS"
      },
      "source": [
        "#### 62. Considering two arrays with shape (1,3) and (3,1), how to compute their sum using an iterator? (★★☆) \n",
        "(**hint**: np.nditer)"
      ]
    },
    {
      "cell_type": "code",
      "execution_count": 30,
      "metadata": {
        "id": "8X3t01DJ5ybT",
        "colab": {
          "base_uri": "https://localhost:8080/"
        },
        "outputId": "7e4a3221-f193-4a12-ecbd-deaf404a263b"
      },
      "outputs": [
        {
          "output_type": "stream",
          "name": "stdout",
          "text": [
            "[[0 1 2]\n",
            " [1 2 3]\n",
            " [2 3 4]]\n"
          ]
        }
      ],
      "source": [
        "import numpy as np\n",
        "n = np.arange(3).reshape(3,1)\n",
        "n1 = np.arange(3).reshape(1,3)\n",
        "n2 = np.nditer([n,n1,None])\n",
        "for n,n1,n3 in n2: n3[...] = n+ n1\n",
        "print(n2.operands[2])"
      ]
    },
    {
      "cell_type": "markdown",
      "metadata": {
        "id": "43kgkTSh5ybT"
      },
      "source": [
        "#### 63. Create an array class that has a name attribute (★★☆) \n",
        "(**hint**: class method)"
      ]
    },
    {
      "cell_type": "code",
      "execution_count": 31,
      "metadata": {
        "id": "OlYMeEfq5ybT",
        "colab": {
          "base_uri": "https://localhost:8080/"
        },
        "outputId": "3add1da9-1111-4db6-d9ae-394f5131c6d0"
      },
      "outputs": [
        {
          "output_type": "stream",
          "name": "stdout",
          "text": [
            "range_10\n"
          ]
        }
      ],
      "source": [
        "import numpy as np\n",
        "class N1(np.ndarray):\n",
        "    def __new__(cls, array, name=\"no name\"):\n",
        "        obj = np.asarray(array).view(cls)\n",
        "        obj.name = name\n",
        "        return obj\n",
        "    def __array_finalize__(self, obj):\n",
        "        if obj is None: return\n",
        "        self.name = getattr(obj, 'name', \"no name\")\n",
        "\n",
        "n = N1(np.arange(10), \"range_10\")\n",
        "print (n.name)"
      ]
    },
    {
      "cell_type": "markdown",
      "metadata": {
        "id": "dWuzRNYF5ybT"
      },
      "source": [
        "#### 64. Consider a given vector, how to add 1 to each element indexed by a second vector (be careful with repeated indices)? (★★★) \n",
        "(**hint**: np.bincount | np.add.at)"
      ]
    },
    {
      "cell_type": "code",
      "execution_count": 33,
      "metadata": {
        "id": "JqfWB95J5ybT",
        "colab": {
          "base_uri": "https://localhost:8080/"
        },
        "outputId": "c7dcd204-f85b-4926-95e0-b3dd39bbda04"
      },
      "outputs": [
        {
          "output_type": "stream",
          "name": "stdout",
          "text": [
            "[4. 1. 1. 2. 4. 4. 3. 5. 2. 4.]\n",
            "[7. 1. 1. 3. 7. 7. 5. 9. 3. 7.]\n"
          ]
        }
      ],
      "source": [
        "import numpy as np\n",
        "n = np.ones(10)\n",
        "n1 = np.random.randint(0,len(n),20)\n",
        "n += np.bincount(n1, minlength=len(n))\n",
        "print(n)\n",
        "np.add.at(n, n1, 1)\n",
        "print(n)"
      ]
    },
    {
      "cell_type": "markdown",
      "metadata": {
        "id": "6l0W73IV5ybU"
      },
      "source": [
        "#### 65. How to accumulate elements of a vector (X) to an array (F) based on an index list (I)? (★★★) \n",
        "(**hint**: np.bincount)"
      ]
    },
    {
      "cell_type": "code",
      "execution_count": 34,
      "metadata": {
        "id": "8lXhebpe5ybU",
        "colab": {
          "base_uri": "https://localhost:8080/"
        },
        "outputId": "b2d51a8e-f696-4ca1-f5f0-ac8b8e24c515"
      },
      "outputs": [
        {
          "output_type": "stream",
          "name": "stdout",
          "text": [
            "[0. 7. 0. 6. 5. 0. 0. 0. 0. 3.]\n"
          ]
        }
      ],
      "source": [
        "import numpy as np\n",
        "n = [1,2,3,4,5,6]\n",
        "n1 = [1,3,9,3,4,1]\n",
        "n2 = np.bincount(n1,n)\n",
        "print(n2)"
      ]
    },
    {
      "cell_type": "markdown",
      "metadata": {
        "id": "se3Y-bKQ5ybU"
      },
      "source": [
        "#### 66. Considering a (w,h,3) image of (dtype=ubyte), compute the number of unique colors (★★★) \n",
        "(**hint**: np.unique)"
      ]
    },
    {
      "cell_type": "code",
      "execution_count": 35,
      "metadata": {
        "id": "5ZkocR_K5ybV",
        "colab": {
          "base_uri": "https://localhost:8080/"
        },
        "outputId": "9a2f59e9-6339-4d35-caf4-ad6e88e5c6ba"
      },
      "outputs": [
        {
          "output_type": "stream",
          "name": "stdout",
          "text": [
            "64\n",
            "64\n"
          ]
        }
      ],
      "source": [
        "import numpy as np\n",
        "n, n1 = 256, 256\n",
        "n2 = np.random.randint(0, 4, (n1, n, 3)).astype(np.ubyte)\n",
        "colors = np.unique(n2.reshape(-1, 3), axis=0)\n",
        "n3 = len(colors)\n",
        "print(n3)\n",
        "n, n1 = 256, 256\n",
        "n3 = np.random.randint(0,4,(n1,n,3), dtype=np.uint8)\n",
        "n324 = np.dot(n2.astype(np.uint32),[1,256,65536])\n",
        "n3 = len(np.unique(n324))\n",
        "print(n3)\n"
      ]
    },
    {
      "cell_type": "markdown",
      "metadata": {
        "id": "qiNoENSB5ybV"
      },
      "source": [
        "#### 67. Considering a four dimensions array, how to get sum over the last two axis at once? (★★★) \n",
        "(**hint**: sum(axis=(-2,-1)))"
      ]
    },
    {
      "cell_type": "code",
      "execution_count": 37,
      "metadata": {
        "id": "TVyFV2rY5ybW",
        "colab": {
          "base_uri": "https://localhost:8080/"
        },
        "outputId": "f7959e2b-7a7f-4032-b8b6-ae748415a1b4"
      },
      "outputs": [
        {
          "output_type": "stream",
          "name": "stdout",
          "text": [
            "[[69 41 45 69]\n",
            " [72 40 49 66]\n",
            " [33 67 44 71]]\n",
            "[[69 41 45 69]\n",
            " [72 40 49 66]\n",
            " [33 67 44 71]]\n"
          ]
        }
      ],
      "source": [
        "import numpy as np\n",
        "n = np.random.randint(0,10,(3,4,3,4))\n",
        "sum = n.sum(axis=(-2,-1))\n",
        "print(sum)\n",
        "sum = n.reshape(n.shape[:-2] + (-1,)).sum(axis=-1)\n",
        "print(sum)"
      ]
    },
    {
      "cell_type": "markdown",
      "metadata": {
        "id": "2eY1mPYe5ybW"
      },
      "source": [
        "#### 68. Considering a one-dimensional vector D, how to compute means of subsets of D using a vector S of same size describing subset  indices? (★★★) \n",
        "(**hint**: np.bincount)"
      ]
    },
    {
      "cell_type": "code",
      "execution_count": 38,
      "metadata": {
        "id": "0I53miCn5ybX",
        "colab": {
          "base_uri": "https://localhost:8080/"
        },
        "outputId": "8eb3322f-a227-4a19-8c9d-a02799c75da7"
      },
      "outputs": [
        {
          "output_type": "stream",
          "name": "stdout",
          "text": [
            "[0.50531858 0.51497158 0.3901533  0.54794486 0.75489448 0.50427707\n",
            " 0.41446495 0.51509004 0.39937405 0.47295209]\n",
            "0    0.505319\n",
            "1    0.514972\n",
            "2    0.390153\n",
            "3    0.547945\n",
            "4    0.754894\n",
            "5    0.504277\n",
            "6    0.414465\n",
            "7    0.515090\n",
            "8    0.399374\n",
            "9    0.472952\n",
            "dtype: float64\n"
          ]
        }
      ],
      "source": [
        "import numpy as np\n",
        "import pandas as pd\n",
        "n = np.random.uniform(0,1,100)\n",
        "n1 = np.random.randint(0,10,100)\n",
        "n_sums = np.bincount(n1, weights=n)\n",
        "n_counts = np.bincount(n1)\n",
        "n_means = n_sums / n_counts\n",
        "print(n_means)\n",
        "print(pd.Series(n).groupby(n1).mean())"
      ]
    },
    {
      "cell_type": "markdown",
      "metadata": {
        "id": "knodSKSa5ybX"
      },
      "source": [
        "#### 69. How to get the diagonal of a dot product? (★★★) \n",
        "(**hint**: np.diag)"
      ]
    },
    {
      "cell_type": "code",
      "execution_count": 39,
      "metadata": {
        "id": "nbgsZup-5ybY",
        "colab": {
          "base_uri": "https://localhost:8080/"
        },
        "outputId": "ec5832f6-fbf7-447a-ab38-d978ed698f17"
      },
      "outputs": [
        {
          "output_type": "execute_result",
          "data": {
            "text/plain": [
              "array([0.67961473, 1.18652192, 1.15067425, 0.83399599, 1.41260947])"
            ]
          },
          "metadata": {},
          "execution_count": 39
        }
      ],
      "source": [
        "import numpy as np\n",
        "n = np.random.uniform(0,1,(5,5))\n",
        "n1 = np.random.uniform(0,1,(5,5))\n",
        "np.diag(np.dot(n, n1))\n",
        "np.sum(n * n1.T, axis=1)\n",
        "np.einsum(\"ij,ji->i\", n, n1)"
      ]
    },
    {
      "cell_type": "markdown",
      "metadata": {
        "id": "tv_PVvEL5ybY"
      },
      "source": [
        "#### 70. Consider the vector \\[1, 2, 3, 4, 5\\], how to build a new vector with 3 consecutive zeros interleaved between each value? (★★★) \n",
        "(**hint**: array\\[::4\\])"
      ]
    },
    {
      "cell_type": "code",
      "execution_count": 40,
      "metadata": {
        "id": "WZyIcenO5ybZ",
        "colab": {
          "base_uri": "https://localhost:8080/"
        },
        "outputId": "ed4505f4-babe-438d-d814-78c3b6bf64f0"
      },
      "outputs": [
        {
          "output_type": "stream",
          "name": "stdout",
          "text": [
            "[1. 0. 0. 0. 2. 0. 0. 0. 3. 0. 0. 0. 4. 0. 0. 0. 5.]\n"
          ]
        }
      ],
      "source": [
        "import numpy as np\n",
        "n = np.array([1,2,3,4,5])\n",
        "n1 = 3\n",
        "n0 = np.zeros(len(n) + (len(n)-1)*(n1))\n",
        "n0[::n1+1] = n\n",
        "print(n0)"
      ]
    },
    {
      "cell_type": "markdown",
      "metadata": {
        "id": "0RwHxj-D5ybZ"
      },
      "source": [
        "#### 71. Consider an array of dimension (5,5,3), how to mulitply it by an array with dimensions (5,5)? (★★★) \n",
        "(**hint**: array\\[:, :, None\\])"
      ]
    },
    {
      "cell_type": "code",
      "execution_count": 41,
      "metadata": {
        "collapsed": true,
        "id": "Dd1Q_fxR5ybZ",
        "colab": {
          "base_uri": "https://localhost:8080/"
        },
        "outputId": "29333502-b90e-4c65-bd16-403b39491713"
      },
      "outputs": [
        {
          "output_type": "stream",
          "name": "stdout",
          "text": [
            "[[[2. 2. 2.]\n",
            "  [2. 2. 2.]\n",
            "  [2. 2. 2.]\n",
            "  [2. 2. 2.]\n",
            "  [2. 2. 2.]]\n",
            "\n",
            " [[2. 2. 2.]\n",
            "  [2. 2. 2.]\n",
            "  [2. 2. 2.]\n",
            "  [2. 2. 2.]\n",
            "  [2. 2. 2.]]\n",
            "\n",
            " [[2. 2. 2.]\n",
            "  [2. 2. 2.]\n",
            "  [2. 2. 2.]\n",
            "  [2. 2. 2.]\n",
            "  [2. 2. 2.]]\n",
            "\n",
            " [[2. 2. 2.]\n",
            "  [2. 2. 2.]\n",
            "  [2. 2. 2.]\n",
            "  [2. 2. 2.]\n",
            "  [2. 2. 2.]]\n",
            "\n",
            " [[2. 2. 2.]\n",
            "  [2. 2. 2.]\n",
            "  [2. 2. 2.]\n",
            "  [2. 2. 2.]\n",
            "  [2. 2. 2.]]]\n"
          ]
        }
      ],
      "source": [
        "import numpy as np\n",
        "n = np.ones((5,5,3))\n",
        "n1 = 2*np.ones((5,5))\n",
        "print(n * n1[:,:,None])"
      ]
    },
    {
      "cell_type": "markdown",
      "metadata": {
        "id": "8DuFoIZD5yba"
      },
      "source": [
        "#### 72. How to swap two rows of an array? (★★★) \n",
        "(**hint**: array\\[\\[\\]\\] = array\\[\\[\\]\\])"
      ]
    },
    {
      "cell_type": "code",
      "execution_count": 42,
      "metadata": {
        "id": "qCE0fkHx5ybe",
        "colab": {
          "base_uri": "https://localhost:8080/"
        },
        "outputId": "ebfb2f3c-43a5-4f48-a9df-3e65d91e30ed"
      },
      "outputs": [
        {
          "output_type": "stream",
          "name": "stdout",
          "text": [
            "[[ 5  6  7  8  9]\n",
            " [ 0  1  2  3  4]\n",
            " [10 11 12 13 14]\n",
            " [15 16 17 18 19]\n",
            " [20 21 22 23 24]]\n"
          ]
        }
      ],
      "source": [
        "import numpy as np\n",
        "n = np.arange(25).reshape(5,5)\n",
        "n[[0,1]] = n[[1,0]]\n",
        "print(n)"
      ]
    },
    {
      "cell_type": "markdown",
      "metadata": {
        "id": "JSXKi4yd5ybf"
      },
      "source": [
        "#### 73. Consider a set of 10 triplets describing 10 triangles (with shared vertices), find the set of unique line segments composing all the  triangles (★★★) \n",
        "(**hint**: repeat, np.roll, np.sort, view, np.unique)"
      ]
    },
    {
      "cell_type": "code",
      "execution_count": 44,
      "metadata": {
        "id": "Xfg15A1V5ybf",
        "colab": {
          "base_uri": "https://localhost:8080/"
        },
        "outputId": "1f8f62b2-a5d2-4fa8-ea7d-5e10783ccc9d"
      },
      "outputs": [
        {
          "output_type": "stream",
          "name": "stdout",
          "text": [
            "[( 1, 46) ( 1, 73) ( 4, 21) ( 4, 45) ( 5, 24) ( 5, 62) ( 9, 47) ( 9, 56)\n",
            " (14, 32) (14, 46) (17, 65) (17, 66) (21, 45) (24, 62) (28, 40) (28, 84)\n",
            " (32, 46) (37, 54) (37, 85) (40, 84) (44, 47) (44, 56) (46, 73) (47, 56)\n",
            " (49, 71) (49, 93) (54, 85) (65, 66) (71, 93)]\n"
          ]
        }
      ],
      "source": [
        "import numpy as np\n",
        "n = np.random.randint(0,100,(10,3))\n",
        "n1 = np.roll(n.repeat(2,axis=1),-1,axis=1)\n",
        "n1 = n1.reshape(len(n1)*3,2)\n",
        "n1 = np.sort(n1,axis=1)\n",
        "n2 = n1.view( dtype=[('p0',n1.dtype),('p1',n1.dtype)] )\n",
        "n2 = np.unique(n2)\n",
        "print(n2)"
      ]
    },
    {
      "cell_type": "markdown",
      "metadata": {
        "id": "0acVL6hg5ybg"
      },
      "source": [
        "#### 74. Given an array C that is a bincount, how to produce an array A such that np.bincount(A) == C? (★★★) \n",
        "(**hint**: np.repeat)"
      ]
    },
    {
      "cell_type": "code",
      "execution_count": 45,
      "metadata": {
        "id": "nLrS8mmR5ybg",
        "colab": {
          "base_uri": "https://localhost:8080/"
        },
        "outputId": "516efb04-e558-44a9-ebb3-fc9150106c06"
      },
      "outputs": [
        {
          "output_type": "stream",
          "name": "stdout",
          "text": [
            "[1 1 2 3 4 4 6]\n"
          ]
        }
      ],
      "source": [
        "import numpy as np\n",
        "n = np.bincount([1,1,2,3,4,4,6])\n",
        "n1 = np.repeat(np.arange(len(n)), n)\n",
        "print(n1)"
      ]
    },
    {
      "cell_type": "markdown",
      "metadata": {
        "id": "UcMoc0-o5ybh"
      },
      "source": [
        "#### 75. How to compute averages using a sliding window over an array? (★★★) \n",
        "(**hint**: np.cumsum)"
      ]
    },
    {
      "cell_type": "code",
      "execution_count": 46,
      "metadata": {
        "id": "OIvRHxNu5ybh",
        "colab": {
          "base_uri": "https://localhost:8080/"
        },
        "outputId": "1037e4b0-96df-4e7f-c56c-72f4d8e4e8fd"
      },
      "outputs": [
        {
          "output_type": "stream",
          "name": "stdout",
          "text": [
            "[]\n",
            "[ 1.  2.  3.  4.  5.  6.  7.  8.  9. 10. 11. 12. 13. 14. 15. 16. 17. 18.]\n"
          ]
        }
      ],
      "source": [
        "import numpy as np\n",
        "from numpy.lib.stride_tricks import sliding_window_view\n",
        "def average(n, n1=3) :\n",
        "    n2 = np.cumsum(n1, dtype=float)\n",
        "    n2[n1:] = n2[n1:] - n2[:-n1]\n",
        "    return n2[n1 - 1:] / n1\n",
        "n3 = np.arange(20)\n",
        "print(average(n3, n1=3))\n",
        "\n",
        "n3 = np.arange(20)\n",
        "print(sliding_window_view(n3, window_shape=3).mean(axis=-1))"
      ]
    },
    {
      "cell_type": "markdown",
      "metadata": {
        "id": "oMhVmzgL5ybh"
      },
      "source": [
        "#### 76. Consider a one-dimensional array Z, build a two-dimensional array whose first row is (Z\\[0\\],Z\\[1\\],Z\\[2\\]) and each subsequent row is  shifted by 1 (last row should be (Z\\[-3\\],Z\\[-2\\],Z\\[-1\\]) (★★★) \n",
        "(**hint**: from numpy.lib import stride_tricks)"
      ]
    },
    {
      "cell_type": "code",
      "execution_count": 47,
      "metadata": {
        "id": "IUrsNA3O5ybi",
        "colab": {
          "base_uri": "https://localhost:8080/"
        },
        "outputId": "644494b4-3882-44d5-999f-5d8a0a76b3e3"
      },
      "outputs": [
        {
          "output_type": "stream",
          "name": "stdout",
          "text": [
            "[[0 1 2]\n",
            " [1 2 3]\n",
            " [2 3 4]\n",
            " [3 4 5]\n",
            " [4 5 6]\n",
            " [5 6 7]\n",
            " [6 7 8]\n",
            " [7 8 9]]\n",
            "[[0 1 2]\n",
            " [1 2 3]\n",
            " [2 3 4]\n",
            " [3 4 5]\n",
            " [4 5 6]\n",
            " [5 6 7]\n",
            " [6 7 8]\n",
            " [7 8 9]]\n"
          ]
        }
      ],
      "source": [
        "import numpy as np\n",
        "from numpy.lib import stride_tricks\n",
        "def dim(a, window):\n",
        "    shape = (a.size - window + 1, window)\n",
        "    strides = (a.strides[0], a.strides[0])\n",
        "    return stride_tricks.as_strided(a, shape=shape, strides=strides)\n",
        "n = dim(np.arange(10), 3)\n",
        "print(n)\n",
        "n = np.arange(10)\n",
        "print(sliding_window_view(n, window_shape=3))"
      ]
    },
    {
      "cell_type": "markdown",
      "metadata": {
        "id": "bFx3JWvl5ybi"
      },
      "source": [
        "#### 77. How to negate a boolean, or to change the sign of a float inplace? (★★★) \n",
        "(**hint**: np.logical_not, np.negative)"
      ]
    },
    {
      "cell_type": "code",
      "execution_count": 48,
      "metadata": {
        "id": "DQM9zSdn5ybj",
        "colab": {
          "base_uri": "https://localhost:8080/"
        },
        "outputId": "2ea2dc1a-2bef-45c3-c938-e9ad9daa6d60"
      },
      "outputs": [
        {
          "output_type": "execute_result",
          "data": {
            "text/plain": [
              "array([ 0.94587197, -0.31193629,  0.30470665,  0.65332583, -0.51741361,\n",
              "       -0.40014932,  0.98136438,  0.26412131, -0.94353878,  0.46690728,\n",
              "        0.06140093, -0.3282508 ,  0.415838  , -0.71997692,  0.5467856 ,\n",
              "        0.90434896, -0.12484968, -0.59791719, -0.74094041, -0.41078627,\n",
              "       -0.11423854,  0.15072092, -0.69466587,  0.65496278,  0.16874016,\n",
              "       -0.41208868,  0.6418504 ,  0.77677613,  0.72913156,  0.88052052,\n",
              "        0.82938243, -0.25324034, -0.45853767, -0.57175412, -0.20715721,\n",
              "        0.04423026,  0.38435835, -0.3156444 ,  0.2133689 , -0.32404371,\n",
              "        0.06295913, -0.98907925, -0.05689095, -0.43528853,  0.22527723,\n",
              "        0.35201667,  0.44671222, -0.75699852, -0.77033507,  0.78360317,\n",
              "       -0.10733249,  0.92294969,  0.32131488,  0.91913986,  0.13790545,\n",
              "        0.39810945, -0.65661764,  0.26346721,  0.17455347, -0.58959152,\n",
              "        0.20274025, -0.22985058,  0.30916318,  0.96885129, -0.2968382 ,\n",
              "       -0.5699653 , -0.19406333, -0.284406  , -0.21594483,  0.76402325,\n",
              "        0.63786996,  0.51304833, -0.38364587, -0.35550407, -0.52175763,\n",
              "       -0.17088655,  0.46028886, -0.32931949,  0.23290718,  0.28628503,\n",
              "        0.41591992,  0.4193702 ,  0.23263644,  0.22726694,  0.04025444,\n",
              "       -0.84659249,  0.79949711,  0.34347231, -0.5347723 , -0.1464815 ,\n",
              "        0.96832396,  0.77524048,  0.77395402,  0.80405177, -0.1438296 ,\n",
              "       -0.07657125, -0.26517545, -0.877647  , -0.28487229, -0.30358889])"
            ]
          },
          "metadata": {},
          "execution_count": 48
        }
      ],
      "source": [
        "import numpy as np\n",
        "n = np.random.randint(0,2,100)\n",
        "np.logical_not(n, out=n)\n",
        "\n",
        "n = np.random.uniform(-1.0,1.0,100)\n",
        "np.negative(n, out=n)"
      ]
    },
    {
      "cell_type": "markdown",
      "metadata": {
        "id": "VajyOgPe5ybk"
      },
      "source": [
        "#### 78. Consider 2 sets of points P0,P1 describing lines (2d) and a point p, how to compute distance from p to each line i  (P0\\[i\\],P1\\[i\\])? (★★★)"
      ]
    },
    {
      "cell_type": "code",
      "execution_count": 49,
      "metadata": {
        "id": "tHiFba-h5ybk",
        "colab": {
          "base_uri": "https://localhost:8080/"
        },
        "outputId": "20e631a5-182c-44d2-c092-af532c64937b"
      },
      "outputs": [
        {
          "output_type": "stream",
          "name": "stdout",
          "text": [
            "[ 7.67824498  7.22914985  5.11021984  2.08624839  3.58768782  5.85485234\n",
            "  7.2776509  11.62793898 10.06181815  1.7783836 ]\n"
          ]
        }
      ],
      "source": [
        "import numpy as np\n",
        "def dist(P0, P1, p):\n",
        "    T = P1 - P0\n",
        "    L = (T**2).sum(axis=1)\n",
        "    U = -((P0[:,0]-p[...,0])*T[:,0] + (P0[:,1]-p[...,1])*T[:,1]) / L\n",
        "    U = U.reshape(len(U),1)\n",
        "    D = P0 + U*T - p\n",
        "    return np.sqrt((D**2).sum(axis=1))\n",
        "\n",
        "P0 = np.random.uniform(-10,10,(10,2))\n",
        "P1 = np.random.uniform(-10,10,(10,2))\n",
        "p  = np.random.uniform(-10,10,( 1,2))\n",
        "print(dist(P0, P1, p))"
      ]
    },
    {
      "cell_type": "markdown",
      "metadata": {
        "id": "QcgXEeG65ybk"
      },
      "source": [
        "#### 79. Consider 2 sets of points P0,P1 describing lines (2d) and a set of points P, how to compute distance from each point j (P\\[j\\]) to each line i (P0\\[i\\],P1\\[i\\])? (★★★)"
      ]
    },
    {
      "cell_type": "code",
      "execution_count": 51,
      "metadata": {
        "id": "numzqhEt5ybk",
        "colab": {
          "base_uri": "https://localhost:8080/"
        },
        "outputId": "31fad106-509b-42bb-ed71-bada3c53f511"
      },
      "outputs": [
        {
          "output_type": "stream",
          "name": "stdout",
          "text": [
            "[[3.60634582e+00 8.04542528e+00 8.93612690e+00 1.75714151e+00\n",
            "  4.90461736e+00 8.05662675e+00 5.09600834e+00 1.02126114e+00\n",
            "  5.22112528e+00 1.13217994e+00]\n",
            " [3.37652640e+00 1.18850695e+00 1.75647480e+00 4.92535955e+00\n",
            "  2.02995253e+00 3.23193180e+00 3.54921548e+00 5.48672461e+00\n",
            "  3.18766554e-03 5.77560051e+00]\n",
            " [2.67778310e+00 2.11998325e+00 1.95901497e+00 7.17687699e+00\n",
            "  2.14836822e+00 6.07901118e+00 7.74885079e-01 4.05342407e+00\n",
            "  2.58853165e+00 7.70302183e+00]\n",
            " [8.63022964e-01 4.08811096e+00 3.43358162e+00 7.65531568e+00\n",
            "  4.78896811e+00 9.12633662e+00 3.77037192e+00 1.76883236e+00\n",
            "  5.51567501e+00 7.89416827e+00]\n",
            " [3.37917793e+00 8.18589994e+00 7.93809475e+00 2.78747469e+00\n",
            "  1.80667785e+00 1.14031310e+01 1.59121254e+00 1.96844042e+00\n",
            "  8.11697624e+00 2.97291678e+00]\n",
            " [5.88487112e+00 9.96897537e+00 1.19388809e+01 7.67367507e+00\n",
            "  1.15562585e+01 6.60612782e+00 1.13308736e+01 2.14426468e+00\n",
            "  4.27888167e+00 6.73642430e+00]\n",
            " [5.19032243e+00 1.01852425e+01 9.33583938e+00 3.68317954e+00\n",
            "  5.08161495e+00 1.47829895e+01 5.22217786e+00 4.36048621e+00\n",
            "  1.13345936e+01 3.53871456e+00]\n",
            " [2.86361156e+00 6.95639714e+00 8.92882048e+00 5.32770254e+00\n",
            "  1.11464729e+01 4.07712632e+00 1.14980247e+01 8.17574116e-01\n",
            "  1.63213261e+00 4.23666791e+00]\n",
            " [9.56148399e+00 4.77404195e+00 4.83586674e+00 1.21636660e+01\n",
            "  2.53403464e+00 2.67704306e-02 1.55536719e-01 1.08977042e+01\n",
            "  3.69574691e+00 1.30771973e+01]\n",
            " [3.10777467e+00 7.69310440e+00 8.13488119e+00 3.53735519e-01\n",
            "  2.20081173e+00 9.03488795e+00 2.47979125e+00 9.94141188e-01\n",
            "  6.00561723e+00 8.26073217e-01]]\n"
          ]
        }
      ],
      "source": [
        "import numpy as np\n",
        "P0 = np.random.uniform(-10, 10, (10,2))\n",
        "P1 = np.random.uniform(-10,10,(10,2))\n",
        "p = np.random.uniform(-10, 10, (10,2))\n",
        "print(np.array([dist(P0,P1,p_i) for p_i in p]))"
      ]
    },
    {
      "cell_type": "markdown",
      "metadata": {
        "id": "IHCrfGH75ybl"
      },
      "source": [
        "#### 80. Consider an arbitrary array, write a function that extract a subpart with a fixed shape and centered on a given element (pad with a `fill` value when necessary) (★★★) \n",
        "(**hint**: minimum, maximum)"
      ]
    },
    {
      "cell_type": "code",
      "execution_count": 52,
      "metadata": {
        "id": "SpFOSYe45ybl",
        "colab": {
          "base_uri": "https://localhost:8080/"
        },
        "outputId": "a27d960f-dfe9-4dec-a7d5-b3d60d3fc682"
      },
      "outputs": [
        {
          "output_type": "stream",
          "name": "stdout",
          "text": [
            "[[2 6 4 4 3 1 8 6 8 4]\n",
            " [5 2 6 3 4 9 9 4 2 8]\n",
            " [1 9 0 3 8 4 3 7 1 8]\n",
            " [9 4 2 8 5 3 9 5 6 5]\n",
            " [9 2 6 3 3 4 0 4 2 2]\n",
            " [9 8 6 4 3 5 3 0 5 6]\n",
            " [6 5 1 5 9 3 5 6 4 6]\n",
            " [7 0 4 4 8 0 1 3 6 0]\n",
            " [0 7 8 3 0 6 9 5 3 1]\n",
            " [2 6 3 0 0 1 9 2 5 1]]\n",
            "[[0 0 0 0 0]\n",
            " [0 2 6 4 4]\n",
            " [0 5 2 6 3]\n",
            " [0 1 9 0 3]\n",
            " [0 9 4 2 8]]\n"
          ]
        },
        {
          "output_type": "stream",
          "name": "stderr",
          "text": [
            "/usr/local/lib/python3.7/dist-packages/ipykernel_launcher.py:25: FutureWarning: Using a non-tuple sequence for multidimensional indexing is deprecated; use `arr[tuple(seq)]` instead of `arr[seq]`. In the future this will be interpreted as an array index, `arr[np.array(seq)]`, which will result either in an error or a different result.\n"
          ]
        }
      ],
      "source": [
        "import numpy as np\n",
        "\n",
        "Z = np.random.randint(0,10,(10,10))\n",
        "shape = (5,5)\n",
        "fill  = 0\n",
        "position = (1,1)\n",
        "\n",
        "R = np.ones(shape, dtype=Z.dtype)*fill\n",
        "P  = np.array(list(position)).astype(int)\n",
        "Rs = np.array(list(R.shape)).astype(int)\n",
        "Zs = np.array(list(Z.shape)).astype(int)\n",
        "\n",
        "R_start = np.zeros((len(shape),)).astype(int)\n",
        "R_stop  = np.array(list(shape)).astype(int)\n",
        "Z_start = (P-Rs//2)\n",
        "Z_stop  = (P+Rs//2)+Rs%2\n",
        "\n",
        "R_start = (R_start - np.minimum(Z_start,0)).tolist()\n",
        "Z_start = (np.maximum(Z_start,0)).tolist()\n",
        "R_stop = np.maximum(R_start, (R_stop - np.maximum(Z_stop-Zs,0))).tolist()\n",
        "Z_stop = (np.minimum(Z_stop,Zs)).tolist()\n",
        "\n",
        "r = [slice(start,stop) for start,stop in zip(R_start,R_stop)]\n",
        "z = [slice(start,stop) for start,stop in zip(Z_start,Z_stop)]\n",
        "R[r] = Z[z]\n",
        "print(Z)\n",
        "print(R)"
      ]
    },
    {
      "cell_type": "markdown",
      "metadata": {
        "id": "ViK-51Mv5ybl"
      },
      "source": [
        "#### 81. Consider an array Z = \\[1,2,3,4,5,6,7,8,9,10,11,12,13,14\\], how to generate an array R = \\[\\[1,2,3,4\\], \\[2,3,4,5\\], \\[3,4,5,6\\], ..., \\[11,12,13,14\\]\\]? (★★★) \n",
        "(**hint**: stride\\_tricks.as\\_strided)"
      ]
    },
    {
      "cell_type": "code",
      "execution_count": 53,
      "metadata": {
        "id": "wgzviJQw5ybl",
        "colab": {
          "base_uri": "https://localhost:8080/"
        },
        "outputId": "88eba279-ac7c-4fa0-ad46-20c91190990a"
      },
      "outputs": [
        {
          "output_type": "stream",
          "name": "stdout",
          "text": [
            "[[ 1  2  3  4]\n",
            " [ 2  3  4  5]\n",
            " [ 3  4  5  6]\n",
            " [ 4  5  6  7]\n",
            " [ 5  6  7  8]\n",
            " [ 6  7  8  9]\n",
            " [ 7  8  9 10]\n",
            " [ 8  9 10 11]\n",
            " [ 9 10 11 12]\n",
            " [10 11 12 13]\n",
            " [11 12 13 14]]\n",
            "[[ 1  2  3  4]\n",
            " [ 2  3  4  5]\n",
            " [ 3  4  5  6]\n",
            " [ 4  5  6  7]\n",
            " [ 5  6  7  8]\n",
            " [ 6  7  8  9]\n",
            " [ 7  8  9 10]\n",
            " [ 8  9 10 11]\n",
            " [ 9 10 11 12]\n",
            " [10 11 12 13]\n",
            " [11 12 13 14]]\n"
          ]
        }
      ],
      "source": [
        "import numpy as np\n",
        "n = np.arange(1,15,dtype=np.uint32)\n",
        "n1 = stride_tricks.as_strided(n,(11,4),(4,4))\n",
        "print(n1)\n",
        "n = np.arange(1, 15, dtype=np.uint32)\n",
        "print(sliding_window_view(n, window_shape=4))"
      ]
    },
    {
      "cell_type": "markdown",
      "metadata": {
        "id": "mH7dYx595ybm"
      },
      "source": [
        "#### 82. Compute a matrix rank (★★★) \n",
        "(**hint**: np.linalg.svd) (suggestion: np.linalg.svd)"
      ]
    },
    {
      "cell_type": "code",
      "execution_count": 55,
      "metadata": {
        "id": "7Gr95hE75ybm",
        "colab": {
          "base_uri": "https://localhost:8080/"
        },
        "outputId": "4400aa6b-b773-488c-f851-a78095ce8acc"
      },
      "outputs": [
        {
          "output_type": "stream",
          "name": "stdout",
          "text": [
            "10\n",
            "10\n"
          ]
        }
      ],
      "source": [
        "import numpy as np\n",
        "n = np.random.uniform(0,1,(10,10))\n",
        "n1, n2, n3 = np.linalg.svd(n) \n",
        "n4 = np.sum(n2 > 1e-10)\n",
        "print(n4)\n",
        "n4 = np.linalg.matrix_rank(n)\n",
        "print(n4)"
      ]
    },
    {
      "cell_type": "markdown",
      "metadata": {
        "id": "oBRJXOQD5ybm"
      },
      "source": [
        "#### 83. How to find the most frequent value in an array? \n",
        "(**hint**: np.bincount, argmax)"
      ]
    },
    {
      "cell_type": "code",
      "execution_count": 56,
      "metadata": {
        "id": "kn5wTbXN5ybn",
        "colab": {
          "base_uri": "https://localhost:8080/"
        },
        "outputId": "126843be-e9e1-4a9d-def4-5382c78e4691"
      },
      "outputs": [
        {
          "output_type": "stream",
          "name": "stdout",
          "text": [
            "9\n"
          ]
        }
      ],
      "source": [
        "import numpy as np\n",
        "n = np.random.randint(0,10,50)\n",
        "print(np.bincount(n).argmax())"
      ]
    },
    {
      "cell_type": "markdown",
      "metadata": {
        "id": "gc2d7fi65ybn"
      },
      "source": [
        "#### 84. Extract all the contiguous 3x3 blocks from a random 10x10 matrix (★★★) \n",
        "(**hint**: stride\\_tricks.as\\_strided)"
      ]
    },
    {
      "cell_type": "code",
      "execution_count": 57,
      "metadata": {
        "id": "E6aXSEyT5ybn",
        "colab": {
          "base_uri": "https://localhost:8080/"
        },
        "outputId": "312e8fce-65a4-4c46-f9df-06a860af1b97"
      },
      "outputs": [
        {
          "output_type": "stream",
          "name": "stdout",
          "text": [
            "[[[[3 0 1]\n",
            "   [2 4 2]\n",
            "   [2 0 4]]\n",
            "\n",
            "  [[0 1 2]\n",
            "   [4 2 0]\n",
            "   [0 4 1]]\n",
            "\n",
            "  [[1 2 2]\n",
            "   [2 0 4]\n",
            "   [4 1 2]]\n",
            "\n",
            "  [[2 2 0]\n",
            "   [0 4 4]\n",
            "   [1 2 1]]\n",
            "\n",
            "  [[2 0 0]\n",
            "   [4 4 1]\n",
            "   [2 1 0]]\n",
            "\n",
            "  [[0 0 0]\n",
            "   [4 1 4]\n",
            "   [1 0 0]]\n",
            "\n",
            "  [[0 0 2]\n",
            "   [1 4 1]\n",
            "   [0 0 3]]\n",
            "\n",
            "  [[0 2 3]\n",
            "   [4 1 4]\n",
            "   [0 3 4]]]\n",
            "\n",
            "\n",
            " [[[2 4 2]\n",
            "   [2 0 4]\n",
            "   [1 0 4]]\n",
            "\n",
            "  [[4 2 0]\n",
            "   [0 4 1]\n",
            "   [0 4 0]]\n",
            "\n",
            "  [[2 0 4]\n",
            "   [4 1 2]\n",
            "   [4 0 2]]\n",
            "\n",
            "  [[0 4 4]\n",
            "   [1 2 1]\n",
            "   [0 2 4]]\n",
            "\n",
            "  [[4 4 1]\n",
            "   [2 1 0]\n",
            "   [2 4 4]]\n",
            "\n",
            "  [[4 1 4]\n",
            "   [1 0 0]\n",
            "   [4 4 1]]\n",
            "\n",
            "  [[1 4 1]\n",
            "   [0 0 3]\n",
            "   [4 1 3]]\n",
            "\n",
            "  [[4 1 4]\n",
            "   [0 3 4]\n",
            "   [1 3 2]]]\n",
            "\n",
            "\n",
            " [[[2 0 4]\n",
            "   [1 0 4]\n",
            "   [0 0 0]]\n",
            "\n",
            "  [[0 4 1]\n",
            "   [0 4 0]\n",
            "   [0 0 4]]\n",
            "\n",
            "  [[4 1 2]\n",
            "   [4 0 2]\n",
            "   [0 4 2]]\n",
            "\n",
            "  [[1 2 1]\n",
            "   [0 2 4]\n",
            "   [4 2 2]]\n",
            "\n",
            "  [[2 1 0]\n",
            "   [2 4 4]\n",
            "   [2 2 0]]\n",
            "\n",
            "  [[1 0 0]\n",
            "   [4 4 1]\n",
            "   [2 0 4]]\n",
            "\n",
            "  [[0 0 3]\n",
            "   [4 1 3]\n",
            "   [0 4 2]]\n",
            "\n",
            "  [[0 3 4]\n",
            "   [1 3 2]\n",
            "   [4 2 2]]]\n",
            "\n",
            "\n",
            " [[[1 0 4]\n",
            "   [0 0 0]\n",
            "   [0 2 1]]\n",
            "\n",
            "  [[0 4 0]\n",
            "   [0 0 4]\n",
            "   [2 1 0]]\n",
            "\n",
            "  [[4 0 2]\n",
            "   [0 4 2]\n",
            "   [1 0 4]]\n",
            "\n",
            "  [[0 2 4]\n",
            "   [4 2 2]\n",
            "   [0 4 2]]\n",
            "\n",
            "  [[2 4 4]\n",
            "   [2 2 0]\n",
            "   [4 2 2]]\n",
            "\n",
            "  [[4 4 1]\n",
            "   [2 0 4]\n",
            "   [2 2 2]]\n",
            "\n",
            "  [[4 1 3]\n",
            "   [0 4 2]\n",
            "   [2 2 2]]\n",
            "\n",
            "  [[1 3 2]\n",
            "   [4 2 2]\n",
            "   [2 2 3]]]\n",
            "\n",
            "\n",
            " [[[0 0 0]\n",
            "   [0 2 1]\n",
            "   [3 4 0]]\n",
            "\n",
            "  [[0 0 4]\n",
            "   [2 1 0]\n",
            "   [4 0 4]]\n",
            "\n",
            "  [[0 4 2]\n",
            "   [1 0 4]\n",
            "   [0 4 4]]\n",
            "\n",
            "  [[4 2 2]\n",
            "   [0 4 2]\n",
            "   [4 4 3]]\n",
            "\n",
            "  [[2 2 0]\n",
            "   [4 2 2]\n",
            "   [4 3 0]]\n",
            "\n",
            "  [[2 0 4]\n",
            "   [2 2 2]\n",
            "   [3 0 0]]\n",
            "\n",
            "  [[0 4 2]\n",
            "   [2 2 2]\n",
            "   [0 0 4]]\n",
            "\n",
            "  [[4 2 2]\n",
            "   [2 2 3]\n",
            "   [0 4 2]]]\n",
            "\n",
            "\n",
            " [[[0 2 1]\n",
            "   [3 4 0]\n",
            "   [1 3 1]]\n",
            "\n",
            "  [[2 1 0]\n",
            "   [4 0 4]\n",
            "   [3 1 1]]\n",
            "\n",
            "  [[1 0 4]\n",
            "   [0 4 4]\n",
            "   [1 1 4]]\n",
            "\n",
            "  [[0 4 2]\n",
            "   [4 4 3]\n",
            "   [1 4 2]]\n",
            "\n",
            "  [[4 2 2]\n",
            "   [4 3 0]\n",
            "   [4 2 4]]\n",
            "\n",
            "  [[2 2 2]\n",
            "   [3 0 0]\n",
            "   [2 4 1]]\n",
            "\n",
            "  [[2 2 2]\n",
            "   [0 0 4]\n",
            "   [4 1 0]]\n",
            "\n",
            "  [[2 2 3]\n",
            "   [0 4 2]\n",
            "   [1 0 0]]]\n",
            "\n",
            "\n",
            " [[[3 4 0]\n",
            "   [1 3 1]\n",
            "   [0 1 3]]\n",
            "\n",
            "  [[4 0 4]\n",
            "   [3 1 1]\n",
            "   [1 3 3]]\n",
            "\n",
            "  [[0 4 4]\n",
            "   [1 1 4]\n",
            "   [3 3 1]]\n",
            "\n",
            "  [[4 4 3]\n",
            "   [1 4 2]\n",
            "   [3 1 0]]\n",
            "\n",
            "  [[4 3 0]\n",
            "   [4 2 4]\n",
            "   [1 0 1]]\n",
            "\n",
            "  [[3 0 0]\n",
            "   [2 4 1]\n",
            "   [0 1 4]]\n",
            "\n",
            "  [[0 0 4]\n",
            "   [4 1 0]\n",
            "   [1 4 0]]\n",
            "\n",
            "  [[0 4 2]\n",
            "   [1 0 0]\n",
            "   [4 0 0]]]\n",
            "\n",
            "\n",
            " [[[1 3 1]\n",
            "   [0 1 3]\n",
            "   [4 1 4]]\n",
            "\n",
            "  [[3 1 1]\n",
            "   [1 3 3]\n",
            "   [1 4 3]]\n",
            "\n",
            "  [[1 1 4]\n",
            "   [3 3 1]\n",
            "   [4 3 0]]\n",
            "\n",
            "  [[1 4 2]\n",
            "   [3 1 0]\n",
            "   [3 0 0]]\n",
            "\n",
            "  [[4 2 4]\n",
            "   [1 0 1]\n",
            "   [0 0 0]]\n",
            "\n",
            "  [[2 4 1]\n",
            "   [0 1 4]\n",
            "   [0 0 3]]\n",
            "\n",
            "  [[4 1 0]\n",
            "   [1 4 0]\n",
            "   [0 3 2]]\n",
            "\n",
            "  [[1 0 0]\n",
            "   [4 0 0]\n",
            "   [3 2 4]]]]\n",
            "[[[[2 4 0]\n",
            "   [4 1 4]\n",
            "   [4 0 4]]\n",
            "\n",
            "  [[4 0 3]\n",
            "   [1 4 4]\n",
            "   [0 4 1]]\n",
            "\n",
            "  [[0 3 3]\n",
            "   [4 4 3]\n",
            "   [4 1 4]]\n",
            "\n",
            "  [[3 3 2]\n",
            "   [4 3 1]\n",
            "   [1 4 2]]\n",
            "\n",
            "  [[3 2 3]\n",
            "   [3 1 2]\n",
            "   [4 2 4]]\n",
            "\n",
            "  [[2 3 4]\n",
            "   [1 2 2]\n",
            "   [2 4 2]]\n",
            "\n",
            "  [[3 4 1]\n",
            "   [2 2 4]\n",
            "   [4 2 3]]\n",
            "\n",
            "  [[4 1 4]\n",
            "   [2 4 1]\n",
            "   [2 3 1]]]\n",
            "\n",
            "\n",
            " [[[4 1 4]\n",
            "   [4 0 4]\n",
            "   [2 0 3]]\n",
            "\n",
            "  [[1 4 4]\n",
            "   [0 4 1]\n",
            "   [0 3 4]]\n",
            "\n",
            "  [[4 4 3]\n",
            "   [4 1 4]\n",
            "   [3 4 0]]\n",
            "\n",
            "  [[4 3 1]\n",
            "   [1 4 2]\n",
            "   [4 0 1]]\n",
            "\n",
            "  [[3 1 2]\n",
            "   [4 2 4]\n",
            "   [0 1 3]]\n",
            "\n",
            "  [[1 2 2]\n",
            "   [2 4 2]\n",
            "   [1 3 3]]\n",
            "\n",
            "  [[2 2 4]\n",
            "   [4 2 3]\n",
            "   [3 3 1]]\n",
            "\n",
            "  [[2 4 1]\n",
            "   [2 3 1]\n",
            "   [3 1 0]]]\n",
            "\n",
            "\n",
            " [[[4 0 4]\n",
            "   [2 0 3]\n",
            "   [3 1 4]]\n",
            "\n",
            "  [[0 4 1]\n",
            "   [0 3 4]\n",
            "   [1 4 3]]\n",
            "\n",
            "  [[4 1 4]\n",
            "   [3 4 0]\n",
            "   [4 3 4]]\n",
            "\n",
            "  [[1 4 2]\n",
            "   [4 0 1]\n",
            "   [3 4 2]]\n",
            "\n",
            "  [[4 2 4]\n",
            "   [0 1 3]\n",
            "   [4 2 3]]\n",
            "\n",
            "  [[2 4 2]\n",
            "   [1 3 3]\n",
            "   [2 3 1]]\n",
            "\n",
            "  [[4 2 3]\n",
            "   [3 3 1]\n",
            "   [3 1 4]]\n",
            "\n",
            "  [[2 3 1]\n",
            "   [3 1 0]\n",
            "   [1 4 0]]]\n",
            "\n",
            "\n",
            " [[[2 0 3]\n",
            "   [3 1 4]\n",
            "   [0 0 2]]\n",
            "\n",
            "  [[0 3 4]\n",
            "   [1 4 3]\n",
            "   [0 2 1]]\n",
            "\n",
            "  [[3 4 0]\n",
            "   [4 3 4]\n",
            "   [2 1 2]]\n",
            "\n",
            "  [[4 0 1]\n",
            "   [3 4 2]\n",
            "   [1 2 4]]\n",
            "\n",
            "  [[0 1 3]\n",
            "   [4 2 3]\n",
            "   [2 4 0]]\n",
            "\n",
            "  [[1 3 3]\n",
            "   [2 3 1]\n",
            "   [4 0 2]]\n",
            "\n",
            "  [[3 3 1]\n",
            "   [3 1 4]\n",
            "   [0 2 2]]\n",
            "\n",
            "  [[3 1 0]\n",
            "   [1 4 0]\n",
            "   [2 2 4]]]\n",
            "\n",
            "\n",
            " [[[3 1 4]\n",
            "   [0 0 2]\n",
            "   [2 0 4]]\n",
            "\n",
            "  [[1 4 3]\n",
            "   [0 2 1]\n",
            "   [0 4 2]]\n",
            "\n",
            "  [[4 3 4]\n",
            "   [2 1 2]\n",
            "   [4 2 0]]\n",
            "\n",
            "  [[3 4 2]\n",
            "   [1 2 4]\n",
            "   [2 0 1]]\n",
            "\n",
            "  [[4 2 3]\n",
            "   [2 4 0]\n",
            "   [0 1 0]]\n",
            "\n",
            "  [[2 3 1]\n",
            "   [4 0 2]\n",
            "   [1 0 3]]\n",
            "\n",
            "  [[3 1 4]\n",
            "   [0 2 2]\n",
            "   [0 3 0]]\n",
            "\n",
            "  [[1 4 0]\n",
            "   [2 2 4]\n",
            "   [3 0 3]]]\n",
            "\n",
            "\n",
            " [[[0 0 2]\n",
            "   [2 0 4]\n",
            "   [0 1 0]]\n",
            "\n",
            "  [[0 2 1]\n",
            "   [0 4 2]\n",
            "   [1 0 3]]\n",
            "\n",
            "  [[2 1 2]\n",
            "   [4 2 0]\n",
            "   [0 3 4]]\n",
            "\n",
            "  [[1 2 4]\n",
            "   [2 0 1]\n",
            "   [3 4 1]]\n",
            "\n",
            "  [[2 4 0]\n",
            "   [0 1 0]\n",
            "   [4 1 1]]\n",
            "\n",
            "  [[4 0 2]\n",
            "   [1 0 3]\n",
            "   [1 1 2]]\n",
            "\n",
            "  [[0 2 2]\n",
            "   [0 3 0]\n",
            "   [1 2 0]]\n",
            "\n",
            "  [[2 2 4]\n",
            "   [3 0 3]\n",
            "   [2 0 0]]]\n",
            "\n",
            "\n",
            " [[[2 0 4]\n",
            "   [0 1 0]\n",
            "   [3 1 0]]\n",
            "\n",
            "  [[0 4 2]\n",
            "   [1 0 3]\n",
            "   [1 0 4]]\n",
            "\n",
            "  [[4 2 0]\n",
            "   [0 3 4]\n",
            "   [0 4 2]]\n",
            "\n",
            "  [[2 0 1]\n",
            "   [3 4 1]\n",
            "   [4 2 4]]\n",
            "\n",
            "  [[0 1 0]\n",
            "   [4 1 1]\n",
            "   [2 4 0]]\n",
            "\n",
            "  [[1 0 3]\n",
            "   [1 1 2]\n",
            "   [4 0 0]]\n",
            "\n",
            "  [[0 3 0]\n",
            "   [1 2 0]\n",
            "   [0 0 2]]\n",
            "\n",
            "  [[3 0 3]\n",
            "   [2 0 0]\n",
            "   [0 2 4]]]\n",
            "\n",
            "\n",
            " [[[0 1 0]\n",
            "   [3 1 0]\n",
            "   [0 3 1]]\n",
            "\n",
            "  [[1 0 3]\n",
            "   [1 0 4]\n",
            "   [3 1 4]]\n",
            "\n",
            "  [[0 3 4]\n",
            "   [0 4 2]\n",
            "   [1 4 3]]\n",
            "\n",
            "  [[3 4 1]\n",
            "   [4 2 4]\n",
            "   [4 3 2]]\n",
            "\n",
            "  [[4 1 1]\n",
            "   [2 4 0]\n",
            "   [3 2 1]]\n",
            "\n",
            "  [[1 1 2]\n",
            "   [4 0 0]\n",
            "   [2 1 4]]\n",
            "\n",
            "  [[1 2 0]\n",
            "   [0 0 2]\n",
            "   [1 4 2]]\n",
            "\n",
            "  [[2 0 0]\n",
            "   [0 2 4]\n",
            "   [4 2 1]]]]\n"
          ]
        }
      ],
      "source": [
        "import numpy as np\n",
        "n1 = np.random.randint(0,5,(10,10))\n",
        "n = 3\n",
        "i = 1 + (Z.shape[0]-3)\n",
        "j = 1 + (Z.shape[1]-3)\n",
        "n2 = stride_tricks.as_strided(n1, shape=(i, j, n, n), strides=n1.strides + n1.strides)\n",
        "print(n2)\n",
        "n1 = np.random.randint(0,5,(10,10))\n",
        "print(sliding_window_view(n1, window_shape=(3, 3)))"
      ]
    },
    {
      "cell_type": "markdown",
      "metadata": {
        "id": "_S3l4key5ybn"
      },
      "source": [
        "#### 85. Create a 2D array subclass such that Z\\[i,j\\] == Z\\[j,i\\] (★★★) \n",
        "(**hint**: class method)"
      ]
    },
    {
      "cell_type": "code",
      "execution_count": 58,
      "metadata": {
        "id": "uMHaJCiJ5ybn",
        "colab": {
          "base_uri": "https://localhost:8080/"
        },
        "outputId": "96217ea8-c783-4ed1-9fcd-83172fbefd64"
      },
      "outputs": [
        {
          "output_type": "stream",
          "name": "stdout",
          "text": [
            "[[ 5  3  5 14  3]\n",
            " [ 3  8 11  8  7]\n",
            " [ 5 11  8 42  8]\n",
            " [14  8 42  9 13]\n",
            " [ 3  7  8 13  8]]\n"
          ]
        }
      ],
      "source": [
        "import numpy as np\n",
        "class Symetric(np.ndarray):\n",
        "    def __setitem__(self, index, value):\n",
        "        i,j = index\n",
        "        super(Symetric, self).__setitem__((i,j), value)\n",
        "        super(Symetric, self).__setitem__((j,i), value)\n",
        "\n",
        "def symetric(Z):\n",
        "    return np.asarray(Z + Z.T - np.diag(Z.diagonal())).view(Symetric)\n",
        "\n",
        "S = symetric(np.random.randint(0,10,(5,5)))\n",
        "S[2,3] = 42\n",
        "print(S)"
      ]
    },
    {
      "cell_type": "markdown",
      "metadata": {
        "id": "WPfGG0nH5ybo"
      },
      "source": [
        "#### 86. Consider a set of p matrices wich shape (n,n) and a set of p vectors with shape (n,1). How to compute the sum of of the p matrix products at once? (result has shape (n,1)) (★★★) \n",
        "(**hint**: np.tensordot)"
      ]
    },
    {
      "cell_type": "code",
      "execution_count": 59,
      "metadata": {
        "id": "-Jfttiaz5ybo",
        "colab": {
          "base_uri": "https://localhost:8080/"
        },
        "outputId": "be7e228b-813d-474f-90ef-34b1986f79e4"
      },
      "outputs": [
        {
          "output_type": "stream",
          "name": "stdout",
          "text": [
            "[[200.]\n",
            " [200.]\n",
            " [200.]\n",
            " [200.]\n",
            " [200.]\n",
            " [200.]\n",
            " [200.]\n",
            " [200.]\n",
            " [200.]\n",
            " [200.]\n",
            " [200.]\n",
            " [200.]\n",
            " [200.]\n",
            " [200.]\n",
            " [200.]\n",
            " [200.]\n",
            " [200.]\n",
            " [200.]\n",
            " [200.]\n",
            " [200.]]\n"
          ]
        }
      ],
      "source": [
        "import numpy as np\n",
        "p, n = 10, 20\n",
        "M = np.ones((p,n,n))\n",
        "V = np.ones((p,n,1))\n",
        "S = np.tensordot(M, V, axes=[[0, 2], [0, 1]])\n",
        "print(S)"
      ]
    },
    {
      "cell_type": "markdown",
      "metadata": {
        "id": "v-suwVFp5ybo"
      },
      "source": [
        "#### 87. Consider a 16x16 array, how to get the block-sum (block size is 4x4)? (★★★) \n",
        "(**hint**: np.add.reduceat)"
      ]
    },
    {
      "cell_type": "code",
      "execution_count": 60,
      "metadata": {
        "id": "pGgEJexh5ybo",
        "colab": {
          "base_uri": "https://localhost:8080/"
        },
        "outputId": "8d079eb0-5917-4a7c-add3-82872c877117"
      },
      "outputs": [
        {
          "output_type": "stream",
          "name": "stdout",
          "text": [
            "[[16. 16. 16. 16.]\n",
            " [16. 16. 16. 16.]\n",
            " [16. 16. 16. 16.]\n",
            " [16. 16. 16. 16.]]\n",
            "[[16. 16. 16. 16.]\n",
            " [16. 16. 16. 16.]\n",
            " [16. 16. 16. 16.]\n",
            " [16. 16. 16. 16.]]\n"
          ]
        }
      ],
      "source": [
        "import numpy as np\n",
        "Z = np.ones((16,16))\n",
        "k = 4\n",
        "S = np.add.reduceat(np.add.reduceat(Z, np.arange(0, Z.shape[0], k), axis=0),\n",
        "                                       np.arange(0, Z.shape[1], k), axis=1)\n",
        "print(S)\n",
        "Z = np.ones((16,16))\n",
        "k = 4\n",
        "windows = np.lib.stride_tricks.sliding_window_view(Z, (k, k))\n",
        "S = windows[::k, ::k, ...].sum(axis=(-2, -1))\n",
        "Z = np.ones((16, 16))\n",
        "k = 4\n",
        "print(sliding_window_view(Z, window_shape=(k, k))[::k, ::k].sum(axis=(-2, -1)))"
      ]
    },
    {
      "cell_type": "markdown",
      "metadata": {
        "id": "h1DNT8JM5ybo"
      },
      "source": [
        "#### 88. How to implement the Game of Life using numpy arrays? (★★★)"
      ]
    },
    {
      "cell_type": "code",
      "execution_count": 61,
      "metadata": {
        "id": "jDFRWs9i5ybp",
        "colab": {
          "base_uri": "https://localhost:8080/"
        },
        "outputId": "0db05aec-f51e-4d3c-d9e7-8bd3e3e5e2f8"
      },
      "outputs": [
        {
          "output_type": "stream",
          "name": "stdout",
          "text": [
            "[[0 0 0 0 0 0 0 0 0 0 0 0 0 0 0 0 0 0 0 0 0 0 0 0 0 0 0 0 0 0 0 0 0 0 0 0\n",
            "  0 0 0 0 0 0 0 0 0 0 0 0 0 0]\n",
            " [0 0 0 0 0 0 0 0 0 0 0 0 0 0 0 0 0 0 0 0 0 0 0 0 0 1 0 0 0 0 0 0 0 0 0 0\n",
            "  0 0 0 0 0 0 0 0 0 0 0 0 0 0]\n",
            " [0 0 0 0 0 0 0 0 1 1 0 0 0 0 0 0 0 0 0 0 0 0 0 0 1 0 1 0 0 0 0 0 0 0 0 1\n",
            "  1 0 0 0 0 0 0 0 0 0 0 0 0 0]\n",
            " [0 0 0 0 0 0 0 0 1 0 1 0 0 0 0 0 0 0 0 0 0 0 0 0 1 0 1 0 0 0 0 0 0 0 0 1\n",
            "  1 0 0 0 0 0 0 0 0 0 0 0 0 0]\n",
            " [0 0 0 0 0 0 0 0 0 1 0 0 0 0 0 0 0 0 0 0 0 0 0 0 0 1 0 0 0 0 0 0 0 0 0 0\n",
            "  0 0 0 0 0 0 0 0 0 0 0 0 0 0]\n",
            " [0 0 0 0 0 0 0 0 0 0 0 0 0 0 0 0 0 0 0 0 0 0 0 0 0 0 0 0 0 0 0 0 0 0 0 0\n",
            "  0 0 0 0 0 0 0 0 0 0 0 0 0 0]\n",
            " [0 0 0 0 0 0 0 0 0 0 0 0 0 0 0 0 0 0 0 0 0 0 0 0 0 0 0 0 0 0 0 0 0 0 0 0\n",
            "  0 0 0 0 0 0 0 0 0 0 0 0 0 0]\n",
            " [0 0 0 0 0 0 1 1 0 0 0 0 0 0 0 0 0 0 0 0 0 0 0 0 0 0 0 0 0 0 0 0 0 0 0 0\n",
            "  0 0 0 0 0 0 0 0 0 0 0 0 0 0]\n",
            " [0 0 0 0 0 1 0 0 1 0 0 0 0 0 0 0 0 0 0 0 0 0 0 0 0 0 0 0 0 0 0 0 0 0 0 0\n",
            "  0 0 0 0 0 0 0 0 0 0 0 0 0 0]\n",
            " [0 0 0 0 0 1 0 1 0 0 0 0 0 0 0 0 0 0 0 0 0 0 0 0 0 0 0 0 0 0 0 0 0 0 0 0\n",
            "  0 0 0 0 0 0 0 0 0 0 0 0 0 0]\n",
            " [0 0 0 0 0 0 1 0 0 0 0 0 0 0 0 0 0 0 0 0 0 0 0 0 0 0 0 0 0 0 0 0 0 0 0 0\n",
            "  0 0 0 0 0 0 0 0 0 0 0 0 0 0]\n",
            " [0 0 0 0 0 0 0 0 0 0 0 0 0 0 0 0 0 0 0 0 0 0 0 0 0 0 0 0 0 1 0 0 0 0 0 0\n",
            "  0 0 0 0 0 0 0 0 0 0 0 0 0 0]\n",
            " [0 0 0 0 0 0 0 0 0 0 0 1 1 0 0 0 0 0 0 0 0 0 0 0 0 0 0 0 0 1 1 1 1 0 0 0\n",
            "  0 0 0 0 0 0 0 0 0 0 0 0 0 0]\n",
            " [0 0 0 0 0 0 0 0 0 0 1 0 0 1 0 0 0 0 0 0 0 0 0 0 1 1 1 0 1 1 1 1 0 1 0 0\n",
            "  0 0 0 0 0 0 0 0 0 0 0 0 0 0]\n",
            " [0 0 0 0 0 0 0 0 0 0 0 1 1 0 0 0 0 0 0 0 0 0 0 0 1 1 0 1 0 1 0 0 0 0 0 0\n",
            "  0 0 0 0 0 0 0 0 0 0 0 0 0 0]\n",
            " [0 0 0 0 0 0 0 0 0 0 0 0 0 0 0 0 0 0 0 0 0 0 0 0 1 1 0 0 1 0 0 0 0 0 0 0\n",
            "  0 0 0 0 0 0 0 0 0 0 0 0 0 0]\n",
            " [0 0 0 0 0 0 0 0 0 1 0 0 0 0 0 0 0 0 0 0 0 0 0 0 0 0 1 1 1 0 0 0 0 0 0 0\n",
            "  0 0 0 0 0 0 0 0 0 0 0 0 0 0]\n",
            " [0 0 0 0 0 0 0 0 0 1 0 0 0 0 0 0 0 0 0 0 0 0 0 0 0 0 0 0 0 0 1 1 1 0 0 0\n",
            "  0 0 0 0 0 0 0 0 0 0 0 0 0 0]\n",
            " [0 0 0 0 0 0 0 0 0 1 0 0 0 0 0 0 0 0 0 0 0 0 0 0 0 0 0 0 0 0 0 0 1 0 0 0\n",
            "  0 0 0 0 0 0 0 0 0 0 0 1 1 0]\n",
            " [0 0 0 0 0 0 0 0 0 0 0 0 0 0 0 0 0 0 0 0 0 0 0 0 0 0 0 0 0 0 0 0 0 0 0 0\n",
            "  0 0 0 0 0 0 0 0 0 0 0 1 1 0]\n",
            " [0 0 0 0 0 0 0 0 0 0 0 0 0 0 0 0 0 0 0 0 0 0 0 0 0 0 0 0 0 0 0 0 0 0 0 0\n",
            "  0 0 0 0 0 0 0 0 0 0 0 0 0 0]\n",
            " [0 0 0 0 0 0 0 0 0 0 0 0 0 0 0 0 0 0 0 0 0 0 0 0 0 0 0 0 0 0 0 0 0 0 0 0\n",
            "  0 0 0 0 0 0 0 0 0 0 0 0 0 0]\n",
            " [0 0 0 0 1 1 0 0 0 0 0 0 0 0 0 0 0 0 0 0 0 0 0 0 0 0 0 0 0 0 0 0 0 0 0 0\n",
            "  0 0 0 0 0 0 0 0 0 0 0 0 0 0]\n",
            " [0 0 0 0 1 1 0 0 0 0 0 0 0 0 0 0 0 0 0 0 0 0 0 0 0 0 0 0 0 0 0 0 0 0 0 0\n",
            "  0 0 0 0 0 0 0 0 0 0 0 0 0 0]\n",
            " [0 0 0 0 0 0 0 0 0 0 0 0 0 0 0 0 0 0 0 0 0 0 0 0 0 0 0 0 0 0 0 0 0 0 0 0\n",
            "  0 0 0 0 0 0 0 0 0 0 0 0 0 0]\n",
            " [0 0 0 0 0 0 0 0 0 0 0 0 0 0 0 0 0 0 0 0 0 0 0 0 0 0 0 0 0 0 0 0 0 0 0 0\n",
            "  0 0 0 0 0 0 0 0 0 0 0 0 0 0]\n",
            " [0 0 0 0 0 0 0 1 1 0 0 0 0 0 0 0 0 0 0 0 0 0 0 0 0 0 0 0 0 0 0 0 0 0 0 0\n",
            "  0 0 0 0 0 0 0 0 0 0 0 0 0 0]\n",
            " [0 0 0 0 0 0 0 1 1 0 0 0 0 0 0 0 0 0 0 0 0 0 0 0 0 0 0 0 0 0 0 0 0 0 0 0\n",
            "  0 0 0 0 0 0 0 0 0 0 0 0 0 0]\n",
            " [0 0 0 0 0 0 0 0 0 0 0 0 0 0 0 0 0 0 0 0 0 0 0 0 0 0 0 0 0 0 0 0 0 0 1 1\n",
            "  0 0 0 0 0 0 0 0 0 1 0 0 0 0]\n",
            " [0 0 0 0 0 0 0 0 0 0 0 1 0 0 0 0 0 0 0 0 0 0 0 0 0 0 0 0 0 0 0 0 0 1 0 0\n",
            "  1 0 0 0 0 0 0 0 0 1 1 0 0 0]\n",
            " [0 0 0 0 0 0 0 0 0 0 1 1 0 0 0 0 0 0 0 0 0 0 0 0 0 0 0 0 0 0 0 0 0 0 1 1\n",
            "  0 0 0 0 0 0 0 0 1 0 1 0 0 0]\n",
            " [0 0 0 0 0 0 0 0 0 0 1 0 1 0 0 0 0 0 0 0 0 0 0 0 0 0 0 0 0 0 0 0 0 0 0 0\n",
            "  0 0 0 0 0 0 0 0 0 0 0 0 0 0]\n",
            " [0 0 0 0 0 0 0 0 0 0 0 0 0 0 0 0 0 0 0 0 0 0 0 0 1 1 0 0 0 0 0 0 0 0 0 0\n",
            "  0 0 0 0 0 0 0 0 0 0 0 0 0 0]\n",
            " [0 0 0 0 0 0 0 0 0 0 0 0 0 0 0 0 0 0 0 0 0 0 0 1 0 0 1 0 0 0 0 0 0 0 0 0\n",
            "  0 0 0 0 0 0 0 0 0 0 0 0 0 0]\n",
            " [0 0 0 0 0 0 0 0 0 0 0 0 0 0 0 0 0 0 0 0 0 0 0 0 1 1 0 0 0 0 0 0 0 0 0 0\n",
            "  0 0 0 0 0 0 0 0 0 0 0 0 0 0]\n",
            " [0 0 0 0 0 0 0 0 0 0 0 0 0 0 0 0 0 0 0 0 0 0 0 0 0 0 0 0 0 0 0 0 0 0 0 0\n",
            "  0 0 0 0 0 0 0 0 0 0 0 0 0 0]\n",
            " [0 0 0 0 0 0 0 0 0 0 0 0 0 0 0 0 0 0 0 0 0 0 0 0 0 0 0 0 0 0 0 0 0 0 0 0\n",
            "  0 0 0 0 0 0 0 0 0 0 0 0 0 0]\n",
            " [0 0 0 0 0 0 0 0 0 0 0 0 0 0 0 0 0 0 0 0 0 0 0 0 0 0 0 0 0 0 0 0 0 0 0 0\n",
            "  0 0 0 0 0 0 0 0 0 0 0 0 0 0]\n",
            " [0 0 0 0 0 0 0 0 0 0 0 0 0 0 0 0 0 0 0 0 0 0 0 0 0 0 0 0 0 0 0 0 0 0 0 0\n",
            "  0 0 0 0 0 0 0 0 0 0 0 0 0 0]\n",
            " [0 0 0 0 0 0 0 0 0 0 0 0 0 0 0 0 0 0 0 0 0 0 0 0 0 0 0 0 0 0 0 0 0 0 0 0\n",
            "  0 0 0 0 0 0 0 0 0 0 0 0 0 0]\n",
            " [0 0 0 0 0 0 0 0 0 0 0 0 0 0 0 0 0 0 0 0 0 0 0 0 0 0 0 0 0 0 0 0 0 0 0 0\n",
            "  0 0 0 0 0 0 0 0 0 0 0 0 0 0]\n",
            " [0 0 0 0 0 0 0 0 0 0 0 0 0 0 0 0 0 0 0 0 0 0 0 0 0 0 0 0 0 0 0 0 0 0 0 0\n",
            "  0 0 0 0 0 0 0 0 0 0 0 0 0 0]\n",
            " [0 0 0 0 0 0 1 1 0 0 0 0 0 0 0 0 0 0 0 0 0 0 0 0 0 0 0 0 0 0 0 0 0 0 0 0\n",
            "  0 0 0 0 0 0 0 0 0 0 0 0 0 0]\n",
            " [0 0 0 0 0 0 1 1 0 0 0 0 0 0 0 0 0 0 0 0 0 0 0 0 0 0 0 0 0 0 0 0 0 0 0 0\n",
            "  0 0 0 0 1 0 0 0 0 0 0 0 0 0]\n",
            " [0 0 0 0 0 0 0 0 0 0 0 0 0 0 0 0 0 0 0 0 0 0 0 0 0 0 0 0 0 0 0 1 1 1 0 0\n",
            "  0 0 0 1 0 1 0 0 0 0 0 0 0 0]\n",
            " [0 0 0 0 0 0 0 0 0 0 0 0 0 0 0 0 0 0 0 0 0 0 0 0 0 0 0 0 0 0 0 0 0 0 0 0\n",
            "  0 0 0 1 1 0 0 0 0 1 1 0 0 0]\n",
            " [0 0 0 0 0 0 0 0 0 0 0 0 0 0 0 0 0 0 0 0 0 0 0 0 0 0 0 1 1 0 0 0 0 0 0 0\n",
            "  0 0 0 0 0 0 0 0 0 1 1 0 0 0]\n",
            " [0 0 0 0 0 0 0 0 0 0 0 0 0 0 0 0 0 0 0 0 0 0 0 0 0 0 0 1 0 1 0 0 0 0 0 0\n",
            "  0 0 0 0 0 0 0 0 0 0 0 0 0 0]\n",
            " [0 0 0 0 0 0 0 0 0 0 0 0 0 0 0 0 0 0 0 0 0 0 0 0 0 0 0 0 1 0 0 0 0 0 0 0\n",
            "  0 0 0 0 0 0 0 0 0 0 0 0 0 0]\n",
            " [0 0 0 0 0 0 0 0 0 0 0 0 0 0 0 0 0 0 0 0 0 0 0 0 0 0 0 0 0 0 0 0 0 0 0 0\n",
            "  0 0 0 0 0 0 0 0 0 0 0 0 0 0]]\n"
          ]
        }
      ],
      "source": [
        "import numpy as np\n",
        "def game(n):\n",
        "    N = (n[0:-2,0:-2] + n[0:-2,1:-1] + n[0:-2,2:] +\n",
        "         n[1:-1,0:-2]                + n[1:-1,2:] +\n",
        "         n[2:  ,0:-2] + n[2:  ,1:-1] + n[2:  ,2:])\n",
        "    n2 = (N==3) & (n[1:-1,1:-1]==0)\n",
        "    n3 = ((N==2) | (N==3)) & (n[1:-1,1:-1]==1)\n",
        "    n[...] = 0\n",
        "    n[1:-1,1:-1][n2 | n3] = 1\n",
        "    return n\n",
        "n = np.random.randint(0,2,(50,50))\n",
        "for i in range(100): n = game(n)\n",
        "print(n)"
      ]
    },
    {
      "cell_type": "markdown",
      "metadata": {
        "id": "sp7ixMpt5ybp"
      },
      "source": [
        "#### 89. How to get the n largest values of an array (★★★) \n",
        "(**hint**: np.argsort | np.argpartition)"
      ]
    },
    {
      "cell_type": "code",
      "execution_count": 62,
      "metadata": {
        "id": "oIngN-Ik5ybp",
        "colab": {
          "base_uri": "https://localhost:8080/"
        },
        "outputId": "e76c8a90-99c5-47af-aec4-62f9e2ff40e6"
      },
      "outputs": [
        {
          "output_type": "stream",
          "name": "stdout",
          "text": [
            "[9995 9996 9997 9998 9999]\n",
            "[9998 9997 9999 9996 9995]\n"
          ]
        }
      ],
      "source": [
        "import numpy as np\n",
        "n = np.arange(10000)\n",
        "np.random.shuffle(n)\n",
        "n1 = 5\n",
        "print (n[np.argsort(n)[-n1:]])\n",
        "print (n[np.argpartition(-n,n1)[:n1]])"
      ]
    },
    {
      "cell_type": "markdown",
      "metadata": {
        "id": "drS_JV9I5ybp"
      },
      "source": [
        "#### 90. Given an arbitrary number of vectors, build the cartesian product (every combinations of every item) (★★★) \n",
        "(**hint**: np.indices)"
      ]
    },
    {
      "cell_type": "code",
      "execution_count": 63,
      "metadata": {
        "id": "-AmG8i2p5ybq",
        "scrolled": true,
        "colab": {
          "base_uri": "https://localhost:8080/"
        },
        "outputId": "96f961fb-265c-47c1-c1dd-305b42e18d0b"
      },
      "outputs": [
        {
          "output_type": "stream",
          "name": "stdout",
          "text": [
            "[[1 4 6]\n",
            " [1 4 7]\n",
            " [1 5 6]\n",
            " [1 5 7]\n",
            " [2 4 6]\n",
            " [2 4 7]\n",
            " [2 5 6]\n",
            " [2 5 7]\n",
            " [3 4 6]\n",
            " [3 4 7]\n",
            " [3 5 6]\n",
            " [3 5 7]]\n"
          ]
        }
      ],
      "source": [
        "import numpy as np\n",
        "def cartesian(arrays):\n",
        "    arrays = [np.asarray(a) for a in arrays]\n",
        "    shape = (len(x) for x in arrays)\n",
        "\n",
        "    ix = np.indices(shape, dtype=int)\n",
        "    ix = ix.reshape(len(arrays), -1).T\n",
        "\n",
        "    for n, arr in enumerate(arrays):\n",
        "        ix[:, n] = arrays[n][ix[:, n]]\n",
        "\n",
        "    return ix\n",
        "\n",
        "print (cartesian(([1, 2, 3], [4, 5], [6, 7])))"
      ]
    },
    {
      "cell_type": "markdown",
      "metadata": {
        "id": "JlCJpT1T5ybr"
      },
      "source": [
        "#### 91. How to create a record array from a regular array? (★★★) \n",
        "(**hint**: np.core.records.fromarrays)"
      ]
    },
    {
      "cell_type": "code",
      "execution_count": 64,
      "metadata": {
        "id": "RkXSuNQm5ybr",
        "colab": {
          "base_uri": "https://localhost:8080/"
        },
        "outputId": "0a6ef677-4fa4-4ccf-a28d-0c9babf159e8"
      },
      "outputs": [
        {
          "output_type": "stream",
          "name": "stdout",
          "text": [
            "[(b'Hello', 2.5, 3) (b'World', 3.6, 2)]\n"
          ]
        }
      ],
      "source": [
        "import numpy as np\n",
        "n = np.array([(\"Hello\", 2.5, 3),\n",
        "              (\"World\", 3.6, 2)])\n",
        "n1 = np.core.records.fromarrays(n.T,\n",
        "                               names='col1, col2, col3',\n",
        "                               formats = 'S8, f8, i8')\n",
        "print(n1)"
      ]
    },
    {
      "cell_type": "markdown",
      "metadata": {
        "id": "qYMTjMfl5ybs"
      },
      "source": [
        "#### 92. Consider a large vector Z, compute Z to the power of 3 using 3 different methods (★★★) \n",
        "(**hint**: np.power, \\*, np.einsum)"
      ]
    },
    {
      "cell_type": "code",
      "execution_count": 66,
      "metadata": {
        "id": "rfjqkxeN5ybt",
        "colab": {
          "base_uri": "https://localhost:8080/"
        },
        "outputId": "0abec2dd-a31e-4959-99e0-ca9e686d9233"
      },
      "outputs": [
        {
          "output_type": "stream",
          "name": "stdout",
          "text": [
            "3.73 s ± 17 ms per loop (mean ± std. dev. of 7 runs, 1 loop each)\n",
            "143 ms ± 644 µs per loop (mean ± std. dev. of 7 runs, 10 loops each)\n",
            "144 ms ± 25.7 ms per loop (mean ± std. dev. of 7 runs, 10 loops each)\n"
          ]
        }
      ],
      "source": [
        "import numpy as np\n",
        "z = np.random.rand(int(5e7))\n",
        "\n",
        "%timeit np.power(z,3)\n",
        "%timeit z*z*z\n",
        "%timeit np.einsum('i,i,i->i',z,z,z)"
      ]
    },
    {
      "cell_type": "markdown",
      "metadata": {
        "id": "LLpIZFOy5ybt"
      },
      "source": [
        "#### 93. Consider two arrays A and B of shape (8,3) and (2,2). How to find rows of A that contain elements of each row of B regardless of the order of the elements in B? (★★★) \n",
        "(**hint**: np.where)"
      ]
    },
    {
      "cell_type": "code",
      "execution_count": 67,
      "metadata": {
        "id": "nc59CM8O5ybu",
        "colab": {
          "base_uri": "https://localhost:8080/"
        },
        "outputId": "2b56df4c-6dbc-469f-a469-7d2fc1da238d"
      },
      "outputs": [
        {
          "output_type": "stream",
          "name": "stdout",
          "text": [
            "[0 1 4 5 6 7]\n"
          ]
        }
      ],
      "source": [
        "import numpy as np\n",
        "A = np.random.randint(0,5,(8,3))\n",
        "B = np.random.randint(0,5,(2,2))\n",
        "\n",
        "C = (A[..., np.newaxis, np.newaxis] == B)\n",
        "rows = np.where(C.any((3,1)).all(1))[0]\n",
        "print(rows)"
      ]
    },
    {
      "cell_type": "markdown",
      "metadata": {
        "id": "J5VDJN4L5ybu"
      },
      "source": [
        "#### 94. Considering a 10x3 matrix, extract rows with unequal values (e.g. \\[2,2,3\\]) (★★★)"
      ]
    },
    {
      "cell_type": "code",
      "execution_count": 68,
      "metadata": {
        "id": "C1D-RjYT5ybu",
        "colab": {
          "base_uri": "https://localhost:8080/"
        },
        "outputId": "37730f1c-8930-4239-a0dd-2ff1bcec5dd7"
      },
      "outputs": [
        {
          "output_type": "stream",
          "name": "stdout",
          "text": [
            "[[4 1 0]\n",
            " [1 4 1]\n",
            " [2 0 4]\n",
            " [1 0 1]\n",
            " [4 3 3]\n",
            " [1 0 4]\n",
            " [1 2 2]\n",
            " [2 4 3]\n",
            " [1 1 1]\n",
            " [1 3 0]]\n",
            "[[4 1 0]\n",
            " [1 4 1]\n",
            " [2 0 4]\n",
            " [1 0 1]\n",
            " [4 3 3]\n",
            " [1 0 4]\n",
            " [1 2 2]\n",
            " [2 4 3]\n",
            " [1 3 0]]\n",
            "[False False False False False False False False  True False]\n"
          ]
        }
      ],
      "source": [
        "import numpy as np\n",
        "n = np.random.randint(0,5,(10,3))\n",
        "print(n)\n",
        "n1 = np.all(n[:,1:] == n[:,:-1], axis=1)\n",
        "n2 = n[~n1]\n",
        "print(n2)\n",
        "n2 = n[n.max(axis=1) != n.min(axis=1),:]\n",
        "print(n1)"
      ]
    },
    {
      "cell_type": "markdown",
      "metadata": {
        "id": "HybtUJ1K5ybu"
      },
      "source": [
        "#### 95. Convert a vector of ints into a matrix binary representation (★★★) \n",
        "(**hint**: np.unpackbits)"
      ]
    },
    {
      "cell_type": "code",
      "execution_count": 70,
      "metadata": {
        "id": "O4CitW0r5ybv",
        "colab": {
          "base_uri": "https://localhost:8080/"
        },
        "outputId": "300ef529-d725-4fd9-f653-1d40c5b26d4f"
      },
      "outputs": [
        {
          "output_type": "stream",
          "name": "stdout",
          "text": [
            "[[0 0 0 0 0 0 0 0]\n",
            " [0 0 0 0 0 0 0 1]\n",
            " [0 0 0 0 0 0 1 0]\n",
            " [0 0 0 0 0 0 1 1]\n",
            " [0 0 0 0 1 1 1 1]\n",
            " [0 0 0 1 0 0 0 0]\n",
            " [0 0 1 0 0 0 0 0]\n",
            " [0 1 0 0 0 0 0 0]\n",
            " [1 0 0 0 0 0 0 0]]\n",
            "[[0 0 0 0 0 0 0 0]\n",
            " [0 0 0 0 0 0 0 1]\n",
            " [0 0 0 0 0 0 1 0]\n",
            " [0 0 0 0 0 0 1 1]\n",
            " [0 0 0 0 1 1 1 1]\n",
            " [0 0 0 1 0 0 0 0]\n",
            " [0 0 1 0 0 0 0 0]\n",
            " [0 1 0 0 0 0 0 0]\n",
            " [1 0 0 0 0 0 0 0]]\n"
          ]
        }
      ],
      "source": [
        "import numpy as np\n",
        "n = np.array([0, 1, 2, 3, 15, 16, 32, 64, 128])\n",
        "n1 = ((n.reshape(-1,1) & (2**np.arange(8))) != 0).astype(int)\n",
        "print(n1[:,::-1])\n",
        "n = np.array([0, 1, 2, 3, 15, 16, 32, 64, 128], dtype=np.uint8)\n",
        "print(np.unpackbits(n[:, np.newaxis], axis=1))"
      ]
    },
    {
      "cell_type": "markdown",
      "metadata": {
        "id": "QsVPF0BS5ybv"
      },
      "source": [
        "#### 96. Given a two dimensional array, how to extract unique rows? (★★★) \n",
        "(**hint**: np.ascontiguousarray)"
      ]
    },
    {
      "cell_type": "code",
      "execution_count": 71,
      "metadata": {
        "id": "CQlXvCzp5ybv",
        "colab": {
          "base_uri": "https://localhost:8080/"
        },
        "outputId": "0c472a51-8e07-453a-c2ac-b6b4c696de2a"
      },
      "outputs": [
        {
          "output_type": "stream",
          "name": "stdout",
          "text": [
            "[[0 0 1]\n",
            " [0 1 1]\n",
            " [1 0 0]\n",
            " [1 0 1]\n",
            " [1 1 0]]\n",
            "[[0 0 1]\n",
            " [0 1 1]\n",
            " [1 0 0]\n",
            " [1 0 1]\n",
            " [1 1 0]]\n"
          ]
        }
      ],
      "source": [
        "import numpy as np\n",
        "n = np.random.randint(0,2,(6,3))\n",
        "T = np.ascontiguousarray(n).view(np.dtype((np.void, n.dtype.itemsize * n.shape[1])))\n",
        "_, idx = np.unique(T, return_index=True)\n",
        "n1 = n[idx]\n",
        "print(n1)\n",
        "n1 = np.unique(n, axis=0)\n",
        "print(n1)"
      ]
    },
    {
      "cell_type": "markdown",
      "metadata": {
        "id": "3mrlIsfk5ybv"
      },
      "source": [
        "#### 97. Considering 2 vectors A & B, write the einsum equivalent of inner, outer, sum, and mul function (★★★) \n",
        "(**hint**: np.einsum)"
      ]
    },
    {
      "cell_type": "code",
      "execution_count": 72,
      "metadata": {
        "id": "t1LRFlO35ybv",
        "colab": {
          "base_uri": "https://localhost:8080/"
        },
        "outputId": "31b03750-e854-4474-bd25-de55efbf442e"
      },
      "outputs": [
        {
          "output_type": "execute_result",
          "data": {
            "text/plain": [
              "array([[0.08883223, 0.04306384, 0.01481843, 0.07164074, 0.06642246,\n",
              "        0.04527479, 0.06120918, 0.01167663, 0.04742373, 0.07333585],\n",
              "       [0.45226135, 0.21924597, 0.07544337, 0.3647363 , 0.33816906,\n",
              "        0.23050232, 0.31162728, 0.05944789, 0.24144302, 0.3733664 ],\n",
              "       [0.16783549, 0.08136281, 0.02799725, 0.13535469, 0.12549551,\n",
              "        0.08554008, 0.11564578, 0.02206129, 0.0896002 , 0.13855735],\n",
              "       [0.4686122 , 0.22717249, 0.07817092, 0.3779228 , 0.35039507,\n",
              "        0.23883579, 0.32289371, 0.06159715, 0.25017203, 0.38686491],\n",
              "       [0.01919925, 0.00930736, 0.0032027 , 0.01548366, 0.01435584,\n",
              "        0.00978521, 0.0132291 , 0.00252366, 0.01024966, 0.01585002],\n",
              "       [0.76924969, 0.37291467, 0.12832136, 0.62037864, 0.57519052,\n",
              "        0.39206056, 0.53004571, 0.10111471, 0.41066955, 0.63505754],\n",
              "       [0.61058205, 0.29599622, 0.10185343, 0.49241756, 0.45655008,\n",
              "        0.31119303, 0.42071696, 0.0802585 , 0.32596367, 0.50406875],\n",
              "       [0.32960946, 0.15978713, 0.05498336, 0.26582093, 0.24645865,\n",
              "        0.1679908 , 0.22711492, 0.04332581, 0.17596441, 0.27211057],\n",
              "       [0.82766891, 0.40123497, 0.13806648, 0.66749212, 0.61887228,\n",
              "        0.42183486, 0.57029903, 0.10879367, 0.44185707, 0.68328579],\n",
              "       [0.77984247, 0.37804981, 0.13008838, 0.62892142, 0.58311105,\n",
              "        0.39745934, 0.53734458, 0.10250708, 0.41632458, 0.64380246]])"
            ]
          },
          "metadata": {},
          "execution_count": 72
        }
      ],
      "source": [
        "import numpy as np\n",
        "A = np.random.uniform(0,1,10)\n",
        "B = np.random.uniform(0,1,10)\n",
        "\n",
        "np.einsum('i->', A)        \n",
        "np.einsum('i,i->i', A, B) \n",
        "np.einsum('i,i', A, B)    \n",
        "np.einsum('i,j->ij', A, B)    "
      ]
    },
    {
      "cell_type": "markdown",
      "metadata": {
        "id": "MgNXwLNR5ybw"
      },
      "source": [
        "#### 98. Considering a path described by two vectors (X,Y), how to sample it using equidistant samples (★★★)? \n",
        "(**hint**: np.cumsum, np.interp)"
      ]
    },
    {
      "cell_type": "code",
      "execution_count": 74,
      "metadata": {
        "collapsed": true,
        "id": "DPKuzYRf5ybw"
      },
      "outputs": [],
      "source": [
        "import numpy as np\n",
        "n = np.arange(0, 10*np.pi, 0.1)\n",
        "n1 = 1\n",
        "x = n1*n*np.cos(n)\n",
        "y = n1*n*np.sin(n)\n",
        "\n",
        "n2 = (np.diff(x)**2 + np.diff(y)**2)**.5 \n",
        "n3 = np.zeros_like(x)\n",
        "n3[1:] = np.cumsum(n2)                \n",
        "n3_int = np.linspace(0, n3.max(), 200) \n",
        "x_int = np.interp(n3_int, n3, x)       \n",
        "y_int = np.interp(n3_int, n3, y)"
      ]
    },
    {
      "cell_type": "markdown",
      "metadata": {
        "id": "o3DLvmsS5ybw"
      },
      "source": [
        "#### 99. Given an integer n and a 2D array X, select from X the rows which can be interpreted as draws from a multinomial distribution with n degrees, i.e., the rows which only contain integers and which sum to n. (★★★) \n",
        "(**hint**: np.logical\\_and.reduce, np.mod)"
      ]
    },
    {
      "cell_type": "code",
      "execution_count": 75,
      "metadata": {
        "id": "wsfmRA4t5ybw",
        "colab": {
          "base_uri": "https://localhost:8080/"
        },
        "outputId": "b713c3e2-180c-488a-e87b-42b37f77169e"
      },
      "outputs": [
        {
          "output_type": "stream",
          "name": "stdout",
          "text": [
            "[[2. 0. 1. 1.]]\n"
          ]
        }
      ],
      "source": [
        "import numpy as np\n",
        "n1 = np.asarray([[1.0, 0.0, 3.0, 8.0],\n",
        "                [2.0, 0.0, 1.0, 1.0],\n",
        "                [1.5, 2.5, 1.0, 0.0]])\n",
        "n = 4\n",
        "n2 = np.logical_and.reduce(np.mod(n1, 1) == 0, axis=-1)\n",
        "n2 &= (n1.sum(axis=-1) == n)\n",
        "print(n1[n2])"
      ]
    },
    {
      "cell_type": "markdown",
      "metadata": {
        "id": "yrVl5dKj5ybw"
      },
      "source": [
        "#### 100. Compute bootstrapped 95% confidence intervals for the mean of a 1D array X (i.e., resample the elements of an array with replacement N times, compute the mean of each sample, and then compute percentiles over the means). (★★★) \n",
        "(**hint**: np.percentile)"
      ]
    },
    {
      "cell_type": "code",
      "execution_count": 76,
      "metadata": {
        "id": "Ucyh1LBz5ybx",
        "colab": {
          "base_uri": "https://localhost:8080/"
        },
        "outputId": "fb1c13f8-bbe6-4afe-eddc-25a12b3478e9"
      },
      "outputs": [
        {
          "output_type": "stream",
          "name": "stdout",
          "text": [
            "[-0.33441976  0.03820451]\n"
          ]
        }
      ],
      "source": [
        "import numpy as np\n",
        "n = np.random.randn(100) # random 1D array\n",
        "n1 = 1000 # number of bootstrap samples\n",
        "n2 = np.random.randint(0, n.size, (n1, n.size))\n",
        "means = n[n2].mean(axis=1)\n",
        "confint = np.percentile(means, [2.5, 97.5])\n",
        "print(confint)"
      ]
    }
  ],
  "metadata": {
    "colab": {
      "collapsed_sections": [],
      "provenance": [],
      "include_colab_link": true
    },
    "kernelspec": {
      "display_name": "Python 3",
      "language": "python",
      "name": "python3"
    },
    "language_info": {
      "codemirror_mode": {
        "name": "ipython",
        "version": 3
      },
      "file_extension": ".py",
      "mimetype": "text/x-python",
      "name": "python",
      "nbconvert_exporter": "python",
      "pygments_lexer": "ipython3",
      "version": "3.8.3"
    }
  },
  "nbformat": 4,
  "nbformat_minor": 0
}